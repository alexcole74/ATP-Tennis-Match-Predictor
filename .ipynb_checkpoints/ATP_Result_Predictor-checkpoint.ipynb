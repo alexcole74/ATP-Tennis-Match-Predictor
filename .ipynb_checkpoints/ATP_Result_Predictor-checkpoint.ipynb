{
 "cells": [
  {
   "cell_type": "code",
   "execution_count": 1,
   "id": "b6b3026f-2540-4cc7-9214-4d7353629f45",
   "metadata": {
    "tags": []
   },
   "outputs": [],
   "source": [
    "from pandas.errors import SettingWithCopyWarning\n",
    "from sklearn.ensemble import RandomForestClassifier\n",
    "import numpy as np\n",
    "import matplotlib.pyplot as plt\n",
    "import pandas as pd\n",
    "import warnings\n",
    "import xgboost as xgb\n",
    "from xgboost import XGBClassifier\n",
    "from sklearn.model_selection import train_test_split\n",
    "from sklearn.metrics import accuracy_score, classification_report\n",
    "from sklearn.datasets import load_wine\n",
    "import optuna\n",
    "warnings.filterwarnings('ignore')"
   ]
  },
  {
   "cell_type": "code",
   "execution_count": 2,
   "id": "23c1c1c7-7fc7-4bc1-b5d7-708e40887461",
   "metadata": {
    "tags": []
   },
   "outputs": [
    {
     "data": {
      "text/plain": [
       "'\\nCSV MANIPULATION: All of the manipulation of the CSV files was done within the merge.py and winner_to_binary.py files. The merge.py file was used to \\nmerge every year of ATP Data into four batches: Data, Training, Validation, and Testing data. I then manipulated the data to switch up whether player 1 por player 2 won,\\nas this would be a tell for the algorithm. Because this work was all done within this script, much of the work was replaced. Additionally, once started the machine learning\\nportion of the project I had to change the winner_name variable (the variable to be predicted) to a binary variable in order for the algorithm to not predict players\\nthat were not in the match. This script has been edited and ran multiple times as well.\\n'"
      ]
     },
     "execution_count": 2,
     "metadata": {},
     "output_type": "execute_result"
    }
   ],
   "source": [
    "\"\"\"\n",
    "CSV MANIPULATION: All of the manipulation of the CSV files was done within the merge.py and winner_to_binary.py files. The merge.py file was used to \n",
    "merge every year of ATP Data into four batches: Data, Training, Validation, and Testing data. I then manipulated the data to switch up whether player 1 por player 2 won,\n",
    "as this would be a tell for the algorithm. Because this work was all done within this script, much of the work was replaced. Additionally, once started the machine learning\n",
    "portion of the project I had to change the winner_name variable (the variable to be predicted) to a binary variable in order for the algorithm to not predict players\n",
    "that were not in the match. This script has been edited and ran multiple times as well.\n",
    "\"\"\""
   ]
  },
  {
   "cell_type": "code",
   "execution_count": 3,
   "id": "2542c3da-f5f6-480f-8c2f-86e6043858a2",
   "metadata": {
    "tags": []
   },
   "outputs": [
    {
     "name": "stdout",
     "output_type": "stream",
     "text": [
      "                   Player  Matches  Wins  Losses      Win%      Ace%   \n",
      "0            Andy Roddick      147   100      47  0.680272  0.150838  \\\n",
      "1            Carsten Ball       11     3       8  0.272727  0.120643   \n",
      "2         Richard Gasquet      286   186     100  0.650350  0.075715   \n",
      "3           Matthew Ebden       99    33      66  0.333333  0.069304   \n",
      "4           Tomas Berdych      361   252     109  0.698061  0.104600   \n",
      "..                    ...      ...   ...     ...       ...       ...   \n",
      "238    Alejandro Gonzalez       28     8      20  0.285714  0.055029   \n",
      "239  Aleksandr Nedovyesov       17     4      13  0.235294  0.072266   \n",
      "240      Alexander Zverev       11     4       7  0.363636  0.058480   \n",
      "241           Borna Coric       12     6       6  0.500000  0.080976   \n",
      "242           Eric Prodon       10     0      10  0.000000  0.044100   \n",
      "\n",
      "          DF%     1stIn      1st%      2nd%      SPW%      RPW%      TPW%   \n",
      "0    0.022948  0.669550  0.773926  0.553686  0.701147  0.350573  0.521765  \\\n",
      "1    0.050938  0.604111  0.729290  0.512415  0.643432  0.331278  0.486247   \n",
      "2    0.029910  0.625183  0.732068  0.546132  0.662376  0.382659  0.520947   \n",
      "3    0.058824  0.610769  0.699271  0.440256  0.598454  0.350381  0.476743   \n",
      "4    0.030994  0.578286  0.780640  0.533811  0.676549  0.390047  0.530495   \n",
      "..        ...       ...       ...       ...       ...       ...       ...   \n",
      "238  0.028868  0.594046  0.656796  0.466667  0.579612  0.366541  0.475259   \n",
      "239  0.019531  0.658203  0.683482  0.499048  0.620443  0.327416  0.474648   \n",
      "240  0.061404  0.536550  0.613079  0.479495  0.551170  0.376238  0.462257   \n",
      "241  0.032195  0.577561  0.721284  0.535797  0.642927  0.369107  0.507913   \n",
      "242  0.036949  0.587604  0.582150  0.459538  0.531585  0.317819  0.430547   \n",
      "\n",
      "     DomRatio  \n",
      "0    1.173062  \n",
      "1    0.929072  \n",
      "2    1.133388  \n",
      "3    0.872580  \n",
      "4    1.205890  \n",
      "..        ...  \n",
      "238  0.871912  \n",
      "239  0.862626  \n",
      "240  0.838262  \n",
      "241  1.033702  \n",
      "242  0.678499  \n",
      "\n",
      "[243 rows x 14 columns]\n"
     ]
    }
   ],
   "source": [
    "import csv\n",
    "from collections import Counter\n",
    "\n",
    "## Aggregate the match results in the csv files provided at\n",
    "## https://github.com/JeffSackmann/tennis_atp and\n",
    "## https://github.com/JeffSackmann/tennis_wta\n",
    "## to create \"player-season\" rate stats, e.g. Ace% for Roger Federer in\n",
    "## 2015 or SPW% for Sara Errani in 2021.\n",
    "\n",
    "mw = 'm'  ## 'm' = men, 'w' = women\n",
    "yrstart = 2010  ## first season to calculate totals\n",
    "yrend = 2014  ## last season to calculate totals\n",
    "match_min = 10  ## minimum number of matches (with matchstats)\n",
    "## a player must have to be included for a given year\n",
    "input_path = '../'  ## path to the single-season results csv files\n",
    "\n",
    "if mw == 'm':\n",
    "    prefix = 'atp'\n",
    "else:\n",
    "    prefix = 'wta'\n",
    "\n",
    "output_path = '2010_2014_player_data.csv'\n",
    "\n",
    "header = ['Player', 'Matches', 'Wins', 'Losses', 'Win%',\n",
    "          'Ace%', 'DF%', '1stIn', '1st%', '2nd%',\n",
    "          'SPW%', 'RPW%', 'TPW%', 'DomRatio']\n",
    "player_seasons = [header]\n",
    "\n",
    "## load one year of match results\n",
    "matches = [row for row in csv.reader(open('Data2010_2014_statistics.csv'))]\n",
    "## exclude incomplete/unplayed matches (e.g. \"W/O\" or \"RET\" in score]\n",
    "matches = [k for k in matches if 'W' not in k[23] and 'R' not in k[23]]\n",
    "## exclude matches without stats\n",
    "matches = [k for k in matches if '' not in [k[27], k[36]]]\n",
    "## make list of all players with a result\n",
    "players = [k[10] for k in matches] + [k[18] for k in matches]\n",
    "## limit list of players to those with at least match_min matches\n",
    "qualifs = [k for k, v in Counter(players).items() if v >= match_min]\n",
    "\n",
    "for pl in qualifs:\n",
    "    ## find all of the players matches\n",
    "    pmatches = [k for k in matches if pl in [k[10], k[18]]]\n",
    "    ## make matrix of their stats (different columns depending if they won or lost)\n",
    "    pstats = [k[27:36] + k[36:45] if pl == k[10] else k[36:45] + k[27:36] for k in pmatches]\n",
    "    ## make row for their aggregate counting stats, starting with number of matches [with stats]\n",
    "    sum_row = [len(pstats)]\n",
    "    for i in range(len(pstats[0])):\n",
    "        this_stat = sum([int(float(k[i])) for k in pstats])\n",
    "        sum_row.append(this_stat)\n",
    "    ## calculate aggregates\n",
    "    match_count = len(pmatches)\n",
    "    wins = len([k for k in pmatches if k[10] == pl])\n",
    "    losses = match_count - wins\n",
    "    win_perc = wins / float(match_count)\n",
    "\n",
    "    ## readable names for serve stats\n",
    "    aces, dfs, svpt, firstin, firstwon, secondwon = sum_row[1:7]\n",
    "    ## calculate common rate stats\n",
    "    ace_rate = aces / float(svpt)\n",
    "    df_rate = dfs / float(svpt)\n",
    "    firstin_rate = firstin / float(svpt)\n",
    "    first_win = firstwon / float(firstin)\n",
    "    second_win = secondwon / (svpt - float(firstin))\n",
    "    spw = firstwon + secondwon\n",
    "    spw_rate = spw / float(svpt)\n",
    "\n",
    "    ## raw return stats\n",
    "    vaces, vdfs, retpt, vfirstin, vfirstwon, vsecondwon = sum_row[10:16]\n",
    "    ## calculate more aggregates\n",
    "    rpw = retpt - vfirstwon - vsecondwon\n",
    "    rpw_rate = rpw / float(retpt)\n",
    "\n",
    "    tpw_rate = (spw + rpw) / (float(svpt) + retpt)\n",
    "    dom_ratio = rpw_rate / (1 - spw_rate)\n",
    "\n",
    "    row = [pl, match_count, wins, losses, win_perc,\n",
    "            ace_rate, df_rate, firstin_rate, first_win, second_win,\n",
    "            spw_rate, rpw_rate, tpw_rate, dom_ratio]\n",
    "    player_seasons.append(row)\n",
    "\n",
    "results = open(output_path, 'w')\n",
    "writer = csv.writer(results)\n",
    "for row in player_seasons:    writer.writerow(row)\n",
    "results.close()\n",
    "\n",
    "df = pd.read_csv('2010_2014_player_data.csv')\n",
    "print(df)"
   ]
  },
  {
   "cell_type": "code",
   "execution_count": 4,
   "id": "819ef6f9-061e-4827-ae94-402020d8ddcf",
   "metadata": {
    "tags": []
   },
   "outputs": [
    {
     "data": {
      "text/plain": [
       "'DATA COLLECTION:\\nAbove I have manipulated a python script made by the owner of the dataset in order to look at player data from 2010-2014. Initially my hope was to factor this earlier\\ndata into the machine learning program in order to create a better estimate. Due to time constraints this was not possible, but it is still interesting to see the\\naccumulated data of each player, and hopefully in the future I can factor this into my project.\\n'"
      ]
     },
     "execution_count": 4,
     "metadata": {},
     "output_type": "execute_result"
    }
   ],
   "source": [
    "\"\"\"DATA COLLECTION:\n",
    "Above I have manipulated a python script made by the owner of the dataset in order to look at player data from 2010-2014. Initially my hope was to factor this earlier\n",
    "data into the machine learning program in order to create a better estimate. Due to time constraints this was not possible, but it is still interesting to see the\n",
    "accumulated data of each player, and hopefully in the future I can factor this into my project.\n",
    "\"\"\""
   ]
  },
  {
   "cell_type": "code",
   "execution_count": 5,
   "id": "5005c136-6ee2-434a-9140-5e0ca1d6723c",
   "metadata": {
    "tags": []
   },
   "outputs": [],
   "source": [
    "#get csv files into dataframes\n",
    "training_data = pd.read_csv ('2015_2021_training_r.csv')\n",
    "testing_data = pd.read_csv ('2022_testing_r.csv')\n",
    "validation_data = pd.read_csv ('2021_validation_r.csv')\n",
    "\n",
    "#isolate the target variable\n",
    "training_label = np.array(training_data['winner_name'])\n",
    "testing_label = np.array(testing_data['winner_name'])\n",
    "validation_label = np.array(validation_data['winner_name'])\n",
    "\n",
    "#get necessary variables for training and testing data\n",
    "features_train = training_data[['tourney_name','surface','draw_size','tourney_level','tourney_date','match_num','p1_id','p1_seed','p1_name','p1_hand','p1_ht','p1_age','p2_id','p2_seed','p2_name','p2_hand','p2_ht','p2_age','p1_rank','p1_rank_points','p2_rank','p2_rank_points']]\n",
    "features_val = validation_data[['tourney_name','surface','draw_size','tourney_level','tourney_date','match_num','p1_id','p1_seed','p1_name','p1_hand','p1_ht','p1_age','p2_id','p2_seed','p2_name','p2_hand','p2_ht','p2_age','p1_rank','p1_rank_points','p2_rank','p2_rank_points']]\n",
    "features_test = testing_data[['tourney_name','surface','draw_size','tourney_level','tourney_date','match_num','p1_id','p1_seed','p1_name','p1_hand','p1_ht','p1_age','p2_id','p2_seed','p2_name','p2_hand','p2_ht','p2_age','p1_rank','p1_rank_points','p2_rank','p2_rank_points']]"
   ]
  },
  {
   "cell_type": "code",
   "execution_count": 6,
   "id": "529342b9-683e-4f27-a01a-9795a891d499",
   "metadata": {
    "tags": []
   },
   "outputs": [],
   "source": [
    "#hotencode categorical variables\n",
    "from sklearn.preprocessing import OrdinalEncoder\n",
    "ord_enc = OrdinalEncoder()\n",
    "features_train[\"tourney_name\"] = ord_enc.fit_transform(features_train[[\"tourney_name\"]])\n",
    "features_train[\"surface\"] = ord_enc.fit_transform(features_train[[\"surface\"]])\n",
    "features_train[\"tourney_date\"] = ord_enc.fit_transform(features_train[[\"tourney_date\"]])\n",
    "features_train[\"tourney_level\"] = ord_enc.fit_transform(features_train[[\"tourney_level\"]])\n",
    "features_train[\"p1_name\"] = ord_enc.fit_transform(features_train[[\"p1_name\"]])\n",
    "features_train[\"p2_name\"] = ord_enc.fit_transform(features_train[[\"p2_name\"]])\n",
    "features_train[\"p1_hand\"] = ord_enc.fit_transform(features_train[[\"p1_hand\"]])\n",
    "features_train[\"p2_hand\"] = ord_enc.fit_transform(features_train[[\"p2_hand\"]])\n",
    "\n",
    "features_val[\"tourney_name\"] = ord_enc.fit_transform(features_val[[\"tourney_name\"]])\n",
    "features_val[\"surface\"] = ord_enc.fit_transform(features_val[[\"surface\"]])\n",
    "features_val[\"tourney_date\"] = ord_enc.fit_transform(features_val[[\"tourney_date\"]])\n",
    "features_val[\"tourney_level\"] = ord_enc.fit_transform(features_val[[\"tourney_level\"]])\n",
    "features_val[\"p1_name\"] = ord_enc.fit_transform(features_val[[\"p1_name\"]])\n",
    "features_val[\"p2_name\"] = ord_enc.fit_transform(features_val[[\"p2_name\"]])\n",
    "features_val[\"p1_hand\"] = ord_enc.fit_transform(features_val[[\"p1_hand\"]])\n",
    "features_val[\"p2_hand\"] = ord_enc.fit_transform(features_val[[\"p2_hand\"]])\n",
    "\n",
    "features_test[\"tourney_name\"] = ord_enc.fit_transform(features_test[[\"tourney_name\"]])\n",
    "features_test[\"surface\"] = ord_enc.fit_transform(features_test[[\"surface\"]])\n",
    "features_test[\"tourney_date\"] = ord_enc.fit_transform(features_test[[\"tourney_date\"]])\n",
    "features_test[\"tourney_level\"] = ord_enc.fit_transform(features_test[[\"tourney_level\"]])\n",
    "features_test[\"p1_name\"] = ord_enc.fit_transform(features_test[[\"p1_name\"]])\n",
    "features_test[\"p2_name\"] = ord_enc.fit_transform(features_test[[\"p2_name\"]])\n",
    "features_test[\"p1_hand\"] = ord_enc.fit_transform(features_test[[\"p1_hand\"]])\n",
    "features_test[\"p2_hand\"] = ord_enc.fit_transform(features_test[[\"p2_hand\"]])"
   ]
  },
  {
   "cell_type": "code",
   "execution_count": 7,
   "id": "16803294-3cb5-44a6-bc26-77cff4ba12b3",
   "metadata": {
    "tags": []
   },
   "outputs": [],
   "source": [
    "#impute missing values\n",
    "from sklearn.impute import SimpleImputer\n",
    "imputer = SimpleImputer(strategy=\"median\")\n",
    "# Num_vars is the list of numerical variables\n",
    "X_train = pd.DataFrame(features_train)\n",
    "features_train = imputer.fit_transform(features_train)\n",
    "features_val = imputer.fit_transform(features_val)\n",
    "features_test = imputer.fit_transform(features_test)\n"
   ]
  },
  {
   "cell_type": "code",
   "execution_count": 8,
   "id": "c1a36877-a559-452d-8b89-a16ffc3239af",
   "metadata": {
    "tags": []
   },
   "outputs": [
    {
     "data": {
      "text/plain": [
       "\"\\nMISSING VALUES: Above shows how within the training, validtion, and testing data I isolated the variables that were beneficial to determining the winner of the match\\nwithout giving any information about the match results. I then used hot one encoding in order to translate all of the categorical variables into numerical ones. Lastly,\\nI used imputation to fill in the missing values when necessary with the median. This is because there were missing values littered throughout the datasets and although\\nthey didn't affect the program drastically it would have made it much harder to run.\\n\""
      ]
     },
     "execution_count": 8,
     "metadata": {},
     "output_type": "execute_result"
    }
   ],
   "source": [
    "\"\"\"\n",
    "MISSING VALUES: Above shows how within the training, validtion, and testing data I isolated the variables that were beneficial to determining the winner of the match\n",
    "without giving any information about the match results. I then used hot one encoding in order to translate all of the categorical variables into numerical ones. Lastly,\n",
    "I used imputation to fill in the missing values when necessary with the median. This is because there were missing values littered throughout the datasets and although\n",
    "they didn't affect the program drastically it would have made it much harder to run.\n",
    "\"\"\""
   ]
  },
  {
   "cell_type": "code",
   "execution_count": 9,
   "id": "2f698caa-e5f4-41f7-b259-b7486cfaa397",
   "metadata": {
    "tags": []
   },
   "outputs": [
    {
     "name": "stdout",
     "output_type": "stream",
     "text": [
      "Training accuracy:  1.0\n",
      "Testing accuracy:  0.6133013369900583\n"
     ]
    }
   ],
   "source": [
    "#traing and test\n",
    "clf = RandomForestClassifier()\n",
    "clf.fit(features_train, training_label)\n",
    "preds = clf.predict(features_test)\n",
    "print(\"Training accuracy: \", clf.score(features_train, training_label))\n",
    "print(\"Testing accuracy: \", clf.score(features_test, testing_label))"
   ]
  },
  {
   "cell_type": "code",
   "execution_count": 10,
   "id": "aa40efcc-7ea9-4be2-9686-a221f446ddbd",
   "metadata": {
    "tags": []
   },
   "outputs": [
    {
     "name": "stdout",
     "output_type": "stream",
     "text": [
      "Model Features Ranked: \n",
      "                       0\n",
      "p2_rank_points  0.088234\n",
      "p1_rank_points  0.086457\n",
      "p1_rank         0.081899\n",
      "p2_rank         0.077122\n",
      "p2_age          0.060091\n",
      "p1_age          0.059815\n",
      "match_num       0.056684\n",
      "tourney_date    0.055009\n",
      "p2_name         0.053369\n",
      "p1_name         0.052704\n",
      "p1_id           0.052551\n",
      "p2_id           0.050952\n",
      "tourney_name    0.050228\n",
      "p2_ht           0.036215\n",
      "p1_ht           0.035834\n",
      "p2_seed         0.024944\n",
      "p1_seed         0.024564\n",
      "draw_size       0.015678\n",
      "surface         0.012256\n",
      "tourney_level   0.010594\n",
      "p2_hand         0.007439\n",
      "p1_hand         0.007362\n"
     ]
    }
   ],
   "source": [
    "print(\"Model Features Ranked: \")\n",
    "print(pd.DataFrame(clf.feature_importances_, index=X_train.columns.values).sort_values(by=0, ascending=False))"
   ]
  },
  {
   "cell_type": "code",
   "execution_count": 11,
   "id": "5a9bdafd-632c-4a03-8b74-fc2bfe2e0154",
   "metadata": {
    "tags": []
   },
   "outputs": [
    {
     "data": {
      "text/plain": [
       "\"\\nVARIABLE EFFECTS: Above lists each variable as well as how much the program factored the variable into its decision. It's not a surprise that the top four variables \\nthe players ranking and rank points. This is because these four variables say a lot about how good each player is. It is interesting to see how age is the next\\nbiggest factor as I wouldn't expect it to have a very large efffect.\\n\""
      ]
     },
     "execution_count": 11,
     "metadata": {},
     "output_type": "execute_result"
    }
   ],
   "source": [
    "\"\"\"\n",
    "VARIABLE EFFECTS: Above lists each variable as well as how much the program factored the variable into its decision. It's not a surprise that the top four variables \n",
    "the players ranking and rank points. This is because these four variables say a lot about how good each player is. It is interesting to see how age is the next\n",
    "biggest factor as I wouldn't expect it to have a very large efffect.\n",
    "\"\"\""
   ]
  },
  {
   "cell_type": "code",
   "execution_count": 12,
   "id": "048571ad-410a-4570-a3e9-7ff47866ff7f",
   "metadata": {
    "tags": []
   },
   "outputs": [
    {
     "name": "stdout",
     "output_type": "stream",
     "text": [
      "Accuracy on training set only using top 4 features: 0.650992\n",
      "Accuracy on test set only using top 4 features: 0.635585\n"
     ]
    }
   ],
   "source": [
    "clf_4 = RandomForestClassifier(max_depth=4)\n",
    "clf_4.fit(features_train, training_label)\n",
    "print(\"Accuracy on training set only using top 4 features: %f\" % clf_4.score(features_train, training_label))\n",
    "print(\"Accuracy on test set only using top 4 features: %f\" % clf_4.score(features_test, testing_label))"
   ]
  },
  {
   "cell_type": "code",
   "execution_count": 13,
   "id": "54f8978e-3bdc-4944-930a-29a512326bfa",
   "metadata": {
    "tags": []
   },
   "outputs": [],
   "source": [
    "#function for hypertuning\n",
    "def objective(trial):\n",
    "\n",
    "    params = {\n",
    "        'max_depth': trial.suggest_int('max_depth', 1, 9),\n",
    "        'learning_rate': trial.suggest_loguniform('learning_rate', 0.01, 1.0),\n",
    "        'n_estimators': trial.suggest_int('n_estimators', 50, 500),\n",
    "        'min_child_weight': trial.suggest_int('min_child_weight', 1, 10),\n",
    "        'gamma': trial.suggest_loguniform('gamma', 1e-8, 1.0),\n",
    "        'subsample': trial.suggest_loguniform('subsample', 0.01, 1.0),\n",
    "        'colsample_bytree': trial.suggest_loguniform('colsample_bytree', 0.01, 1.0),\n",
    "        'reg_alpha': trial.suggest_loguniform('reg_alpha', 1e-8, 1.0),\n",
    "        'reg_lambda': trial.suggest_loguniform('reg_lambda', 1e-8, 1.0),\n",
    "        'eval_metric': 'mlogloss',\n",
    "        'use_label_encoder': False\n",
    "    }\n",
    "\n",
    "    # Fit the model\n",
    "    optuna_model = XGBClassifier(**params)\n",
    "    optuna_model.fit(features_train, training_label)\n",
    "\n",
    "    # Make predictions\n",
    "    y_pred = optuna_model.predict(features_test)\n",
    "\n",
    "    # Evaluate predictions\n",
    "    accuracy = accuracy_score(testing_label, y_pred)\n",
    "    return accuracy\n"
   ]
  },
  {
   "cell_type": "code",
   "execution_count": 14,
   "id": "4170330b-41b8-4543-a04c-169f55a7df4c",
   "metadata": {
    "tags": []
   },
   "outputs": [
    {
     "name": "stderr",
     "output_type": "stream",
     "text": [
      "\u001b[32m[I 2023-05-07 17:37:38,265]\u001b[0m A new study created in memory with name: no-name-3fdf1dfc-47aa-41e4-ac5f-e8f87eead505\u001b[0m\n",
      "\u001b[32m[I 2023-05-07 17:37:38,686]\u001b[0m Trial 0 finished with value: 0.6348988687007199 and parameters: {'max_depth': 4, 'learning_rate': 0.015124696450833605, 'n_estimators': 230, 'min_child_weight': 6, 'gamma': 0.00019168770486618423, 'subsample': 0.1387374877826368, 'colsample_bytree': 0.014488049507196975, 'reg_alpha': 0.652806634542336, 'reg_lambda': 7.474476944629888e-08}. Best is trial 0 with value: 0.6348988687007199.\u001b[0m\n",
      "\u001b[32m[I 2023-05-07 17:37:40,290]\u001b[0m Trial 1 finished with value: 0.5711347274597189 and parameters: {'max_depth': 9, 'learning_rate': 0.18494190250842338, 'n_estimators': 459, 'min_child_weight': 4, 'gamma': 0.252403191343291, 'subsample': 0.1592712452343658, 'colsample_bytree': 0.26697423731989534, 'reg_alpha': 1.0973519345782484e-05, 'reg_lambda': 1.652379141408635e-07}. Best is trial 0 with value: 0.6348988687007199.\u001b[0m\n",
      "\u001b[32m[I 2023-05-07 17:37:40,430]\u001b[0m Trial 2 finished with value: 0.6157010627356874 and parameters: {'max_depth': 1, 'learning_rate': 0.3134503577631025, 'n_estimators': 153, 'min_child_weight': 5, 'gamma': 0.22446916614421883, 'subsample': 0.04304913728899802, 'colsample_bytree': 0.017754244783832047, 'reg_alpha': 0.025064511031583997, 'reg_lambda': 1.1023702444585579e-08}. Best is trial 0 with value: 0.6348988687007199.\u001b[0m\n",
      "\u001b[32m[I 2023-05-07 17:37:40,836]\u001b[0m Trial 3 finished with value: 0.5982173465889613 and parameters: {'max_depth': 5, 'learning_rate': 0.17857403531405988, 'n_estimators': 315, 'min_child_weight': 7, 'gamma': 4.7252201784728725e-05, 'subsample': 0.01510782535679546, 'colsample_bytree': 0.038870618489595464, 'reg_alpha': 0.0031006775724670417, 'reg_lambda': 6.6521438668777674e-06}. Best is trial 0 with value: 0.6348988687007199.\u001b[0m\n",
      "\u001b[32m[I 2023-05-07 17:37:41,642]\u001b[0m Trial 4 finished with value: 0.6355845046280425 and parameters: {'max_depth': 4, 'learning_rate': 0.024689744725112928, 'n_estimators': 459, 'min_child_weight': 8, 'gamma': 0.033867835207954826, 'subsample': 0.11953759460384487, 'colsample_bytree': 0.37368258025277135, 'reg_alpha': 3.978497065085292e-06, 'reg_lambda': 4.512047642416385e-05}. Best is trial 4 with value: 0.6355845046280425.\u001b[0m\n",
      "\u001b[32m[I 2023-05-07 17:37:41,798]\u001b[0m Trial 5 finished with value: 0.6225574220089133 and parameters: {'max_depth': 3, 'learning_rate': 0.07550732553232005, 'n_estimators': 125, 'min_child_weight': 10, 'gamma': 6.338031252195077e-07, 'subsample': 0.01817811176385607, 'colsample_bytree': 0.14077611446030652, 'reg_alpha': 4.930991933434711e-05, 'reg_lambda': 1.1077692197143148e-06}. Best is trial 4 with value: 0.6355845046280425.\u001b[0m\n",
      "\u001b[32m[I 2023-05-07 17:37:42,307]\u001b[0m Trial 6 finished with value: 0.5803908124785738 and parameters: {'max_depth': 2, 'learning_rate': 0.16692068107051558, 'n_estimators': 421, 'min_child_weight': 4, 'gamma': 9.58385660150716e-06, 'subsample': 0.020627722062951968, 'colsample_bytree': 0.37286765172678177, 'reg_alpha': 2.629980859025228e-06, 'reg_lambda': 1.9235048442971734e-08}. Best is trial 4 with value: 0.6355845046280425.\u001b[0m\n",
      "\u001b[32m[I 2023-05-07 17:37:42,570]\u001b[0m Trial 7 finished with value: 0.6074734316078162 and parameters: {'max_depth': 2, 'learning_rate': 0.1478697236483993, 'n_estimators': 228, 'min_child_weight': 3, 'gamma': 1.404843571848622e-06, 'subsample': 0.020927424913477887, 'colsample_bytree': 0.27217546777026447, 'reg_alpha': 0.003960479261128622, 'reg_lambda': 1.3975601440458823e-05}. Best is trial 4 with value: 0.6355845046280425.\u001b[0m\n",
      "\u001b[32m[I 2023-05-07 17:37:42,746]\u001b[0m Trial 8 finished with value: 0.6400411381556393 and parameters: {'max_depth': 4, 'learning_rate': 0.017536767564863682, 'n_estimators': 70, 'min_child_weight': 5, 'gamma': 1.8777930336329183e-06, 'subsample': 0.5873884139808434, 'colsample_bytree': 0.015733443292914543, 'reg_alpha': 0.047479784372687336, 'reg_lambda': 5.310642589702692e-07}. Best is trial 8 with value: 0.6400411381556393.\u001b[0m\n",
      "\u001b[32m[I 2023-05-07 17:37:43,046]\u001b[0m Trial 9 finished with value: 0.6355845046280425 and parameters: {'max_depth': 4, 'learning_rate': 0.026435401338257822, 'n_estimators': 187, 'min_child_weight': 1, 'gamma': 2.0307956605775346e-07, 'subsample': 0.1423612192330691, 'colsample_bytree': 0.010156764590893857, 'reg_alpha': 1.9864592997292602e-05, 'reg_lambda': 5.27780359212569e-07}. Best is trial 8 with value: 0.6400411381556393.\u001b[0m\n",
      "\u001b[32m[I 2023-05-07 17:37:43,673]\u001b[0m Trial 10 finished with value: 0.6283853273911553 and parameters: {'max_depth': 7, 'learning_rate': 0.010017584851417936, 'n_estimators': 75, 'min_child_weight': 2, 'gamma': 1.2525383240115723e-08, 'subsample': 0.8560116582763545, 'colsample_bytree': 0.9580251851179515, 'reg_alpha': 8.706525033990195e-08, 'reg_lambda': 0.003025496641778345}. Best is trial 8 with value: 0.6400411381556393.\u001b[0m\n",
      "\u001b[32m[I 2023-05-07 17:37:44,569]\u001b[0m Trial 11 finished with value: 0.6270140555365101 and parameters: {'max_depth': 6, 'learning_rate': 0.04221401538712199, 'n_estimators': 325, 'min_child_weight': 8, 'gamma': 0.0026803398711146517, 'subsample': 0.36333401578375146, 'colsample_bytree': 0.04805732602087566, 'reg_alpha': 2.529317549959895e-07, 'reg_lambda': 0.0003555067178915986}. Best is trial 8 with value: 0.6400411381556393.\u001b[0m\n",
      "\u001b[32m[I 2023-05-07 17:37:45,725]\u001b[0m Trial 12 finished with value: 0.6157010627356874 and parameters: {'max_depth': 7, 'learning_rate': 0.026461331622160713, 'n_estimators': 386, 'min_child_weight': 9, 'gamma': 0.003341529096791922, 'subsample': 0.9815283128849127, 'colsample_bytree': 0.06722928776473333, 'reg_alpha': 0.0013155086383634532, 'reg_lambda': 0.5647901769398136}. Best is trial 8 with value: 0.6400411381556393.\u001b[0m\n",
      "\u001b[32m[I 2023-05-07 17:37:46,964]\u001b[0m Trial 13 finished with value: 0.6198148782996229 and parameters: {'max_depth': 5, 'learning_rate': 0.05705392099929844, 'n_estimators': 492, 'min_child_weight': 7, 'gamma': 0.01009888687206721, 'subsample': 0.3434588443425619, 'colsample_bytree': 0.02634128949558336, 'reg_alpha': 1.005241998469796e-08, 'reg_lambda': 1.7986418271113685e-05}. Best is trial 8 with value: 0.6400411381556393.\u001b[0m\n",
      "\u001b[32m[I 2023-05-07 17:37:47,127]\u001b[0m Trial 14 finished with value: 0.5512512855673637 and parameters: {'max_depth': 3, 'learning_rate': 0.8871143182811825, 'n_estimators': 60, 'min_child_weight': 6, 'gamma': 0.8368969460857726, 'subsample': 0.06926046243540473, 'colsample_bytree': 0.11000949524249791, 'reg_alpha': 0.00013027478910486315, 'reg_lambda': 0.0002714962892950603}. Best is trial 8 with value: 0.6400411381556393.\u001b[0m\n",
      "\u001b[32m[I 2023-05-07 17:37:47,934]\u001b[0m Trial 15 finished with value: 0.6294137812821392 and parameters: {'max_depth': 4, 'learning_rate': 0.02265544822792254, 'n_estimators': 359, 'min_child_weight': 8, 'gamma': 0.00022841631780302324, 'subsample': 0.2913057498962994, 'colsample_bytree': 0.032005740936732974, 'reg_alpha': 0.3982703339348239, 'reg_lambda': 1.556295773716677e-06}. Best is trial 8 with value: 0.6400411381556393.\u001b[0m\n",
      "\u001b[32m[I 2023-05-07 17:37:48,546]\u001b[0m Trial 16 finished with value: 0.6294137812821392 and parameters: {'max_depth': 6, 'learning_rate': 0.01196949077248249, 'n_estimators': 263, 'min_child_weight': 10, 'gamma': 7.047873273152179e-06, 'subsample': 0.06585937332906447, 'colsample_bytree': 0.06319807595119298, 'reg_alpha': 0.0004609941421305176, 'reg_lambda': 7.067932820244846e-05}. Best is trial 8 with value: 0.6400411381556393.\u001b[0m\n",
      "\u001b[32m[I 2023-05-07 17:37:49,079]\u001b[0m Trial 17 finished with value: 0.6177579705176551 and parameters: {'max_depth': 9, 'learning_rate': 0.038940128483506274, 'n_estimators': 122, 'min_child_weight': 5, 'gamma': 0.03071975423833233, 'subsample': 0.5351547507096365, 'colsample_bytree': 0.022118469460622753, 'reg_alpha': 0.03585780036939744, 'reg_lambda': 2.4383647108791595e-06}. Best is trial 8 with value: 0.6400411381556393.\u001b[0m\n",
      "\u001b[32m[I 2023-05-07 17:37:49,608]\u001b[0m Trial 18 finished with value: 0.637298594446349 and parameters: {'max_depth': 1, 'learning_rate': 0.016184137873756256, 'n_estimators': 437, 'min_child_weight': 8, 'gamma': 0.000866731252693346, 'subsample': 0.19084305979577793, 'colsample_bytree': 0.14947940606121488, 'reg_alpha': 0.00020014079452616772, 'reg_lambda': 1.5715159182202282e-07}. Best is trial 8 with value: 0.6400411381556393.\u001b[0m\n"
     ]
    },
    {
     "name": "stderr",
     "output_type": "stream",
     "text": [
      "\u001b[32m[I 2023-05-07 17:37:49,965]\u001b[0m Trial 19 finished with value: 0.6184436064449778 and parameters: {'max_depth': 1, 'learning_rate': 0.01675043874814536, 'n_estimators': 288, 'min_child_weight': 7, 'gamma': 0.000713152827405398, 'subsample': 0.23693289713877141, 'colsample_bytree': 0.010347912516438037, 'reg_alpha': 0.00027824029963102346, 'reg_lambda': 2.161814098684509e-07}. Best is trial 8 with value: 0.6400411381556393.\u001b[0m\n",
      "\u001b[32m[I 2023-05-07 17:37:50,613]\u001b[0m Trial 20 finished with value: 0.6359273225917038 and parameters: {'max_depth': 2, 'learning_rate': 0.01606514109603771, 'n_estimators': 383, 'min_child_weight': 4, 'gamma': 3.571540836771852e-05, 'subsample': 0.5471660769779556, 'colsample_bytree': 0.07982383329437208, 'reg_alpha': 0.01858977174089882, 'reg_lambda': 4.085502389096383e-08}. Best is trial 8 with value: 0.6400411381556393.\u001b[0m\n",
      "\u001b[32m[I 2023-05-07 17:37:51,307]\u001b[0m Trial 21 finished with value: 0.6379842303736716 and parameters: {'max_depth': 2, 'learning_rate': 0.015769421771293816, 'n_estimators': 396, 'min_child_weight': 4, 'gamma': 4.817609123558594e-05, 'subsample': 0.6111637462481374, 'colsample_bytree': 0.0925946071718112, 'reg_alpha': 0.025291925602006743, 'reg_lambda': 7.294752503456752e-08}. Best is trial 8 with value: 0.6400411381556393.\u001b[0m\n",
      "\u001b[32m[I 2023-05-07 17:37:51,861]\u001b[0m Trial 22 finished with value: 0.6208433321906068 and parameters: {'max_depth': 1, 'learning_rate': 0.010110845019346391, 'n_estimators': 421, 'min_child_weight': 3, 'gamma': 0.00043762096241480063, 'subsample': 0.5042929023261914, 'colsample_bytree': 0.04190541924285223, 'reg_alpha': 0.11471710680916011, 'reg_lambda': 1.6995587713115148e-07}. Best is trial 8 with value: 0.6400411381556393.\u001b[0m\n",
      "\u001b[32m[I 2023-05-07 17:37:52,482]\u001b[0m Trial 23 finished with value: 0.640726774082962 and parameters: {'max_depth': 3, 'learning_rate': 0.03494491135152707, 'n_estimators': 341, 'min_child_weight': 5, 'gamma': 5.002320612415606e-05, 'subsample': 0.22945894211750367, 'colsample_bytree': 0.10595466402742952, 'reg_alpha': 0.006061756463264548, 'reg_lambda': 3.425191024323519e-08}. Best is trial 23 with value: 0.640726774082962.\u001b[0m\n",
      "\u001b[32m[I 2023-05-07 17:37:53,179]\u001b[0m Trial 24 finished with value: 0.630442235173123 and parameters: {'max_depth': 3, 'learning_rate': 0.037494847475206566, 'n_estimators': 341, 'min_child_weight': 5, 'gamma': 4.397308610917379e-05, 'subsample': 0.7515953495375084, 'colsample_bytree': 0.026019049634714176, 'reg_alpha': 0.1396505963389402, 'reg_lambda': 2.8761748345707923e-08}. Best is trial 23 with value: 0.640726774082962.\u001b[0m\n",
      "\u001b[32m[I 2023-05-07 17:37:53,760]\u001b[0m Trial 25 finished with value: 0.6386698663009942 and parameters: {'max_depth': 3, 'learning_rate': 0.020750754098101055, 'n_estimators': 278, 'min_child_weight': 2, 'gamma': 9.157189930638844e-05, 'subsample': 0.4151015507002689, 'colsample_bytree': 0.050547469724235454, 'reg_alpha': 0.008253296968775966, 'reg_lambda': 1.0734895864689969e-08}. Best is trial 23 with value: 0.640726774082962.\u001b[0m\n",
      "\u001b[32m[I 2023-05-07 17:37:54,327]\u001b[0m Trial 26 finished with value: 0.6345560507370587 and parameters: {'max_depth': 3, 'learning_rate': 0.05318343379721627, 'n_estimators': 267, 'min_child_weight': 1, 'gamma': 1.0165269198497856e-05, 'subsample': 0.391879758057871, 'colsample_bytree': 0.05296994006050693, 'reg_alpha': 0.003712744061512312, 'reg_lambda': 2.9370821136185727e-08}. Best is trial 23 with value: 0.640726774082962.\u001b[0m\n",
      "\u001b[32m[I 2023-05-07 17:37:54,869]\u001b[0m Trial 27 finished with value: 0.6321563249914296 and parameters: {'max_depth': 5, 'learning_rate': 0.031819590425015316, 'n_estimators': 213, 'min_child_weight': 2, 'gamma': 0.0001374762315738274, 'subsample': 0.2786121658770874, 'colsample_bytree': 0.035127853897548314, 'reg_alpha': 0.008141356951403259, 'reg_lambda': 4.938113867863718e-07}. Best is trial 23 with value: 0.640726774082962.\u001b[0m\n",
      "\u001b[32m[I 2023-05-07 17:37:55,406]\u001b[0m Trial 28 finished with value: 0.637298594446349 and parameters: {'max_depth': 3, 'learning_rate': 0.02259037864273284, 'n_estimators': 297, 'min_child_weight': 3, 'gamma': 2.8901956637801956e-06, 'subsample': 0.20022285000399717, 'colsample_bytree': 0.020216050284213773, 'reg_alpha': 0.0010731733223674838, 'reg_lambda': 1.1888849939999988e-08}. Best is trial 23 with value: 0.640726774082962.\u001b[0m\n",
      "\u001b[32m[I 2023-05-07 17:37:56,058]\u001b[0m Trial 29 finished with value: 0.6331847788824134 and parameters: {'max_depth': 4, 'learning_rate': 0.019407174956442126, 'n_estimators': 248, 'min_child_weight': 6, 'gamma': 0.00018916196005790283, 'subsample': 0.4484106463654005, 'colsample_bytree': 0.015428731820473033, 'reg_alpha': 0.3289380786650096, 'reg_lambda': 7.404497378167332e-08}. Best is trial 23 with value: 0.640726774082962.\u001b[0m\n",
      "\u001b[32m[I 2023-05-07 17:37:56,681]\u001b[0m Trial 30 finished with value: 0.6181007884813164 and parameters: {'max_depth': 6, 'learning_rate': 0.013782237604395859, 'n_estimators': 175, 'min_child_weight': 2, 'gamma': 1.6182956443157125e-05, 'subsample': 0.7414164394587118, 'colsample_bytree': 0.02958873747999459, 'reg_alpha': 0.09147859857202152, 'reg_lambda': 1.009909247548407e-08}. Best is trial 23 with value: 0.640726774082962.\u001b[0m\n",
      "\u001b[32m[I 2023-05-07 17:37:57,377]\u001b[0m Trial 31 finished with value: 0.6414124100102845 and parameters: {'max_depth': 2, 'learning_rate': 0.013882811602606819, 'n_estimators': 371, 'min_child_weight': 4, 'gamma': 8.777626449966236e-05, 'subsample': 0.713467616901941, 'colsample_bytree': 0.09728185679099223, 'reg_alpha': 0.016342890070741113, 'reg_lambda': 6.670166370487189e-08}. Best is trial 31 with value: 0.6414124100102845.\u001b[0m\n",
      "\u001b[32m[I 2023-05-07 17:37:58,058]\u001b[0m Trial 32 finished with value: 0.6366129585190264 and parameters: {'max_depth': 2, 'learning_rate': 0.01285925187130477, 'n_estimators': 347, 'min_child_weight': 6, 'gamma': 0.00011938677861243066, 'subsample': 0.648862676732433, 'colsample_bytree': 0.06742619934128773, 'reg_alpha': 0.009779582552672923, 'reg_lambda': 5.8418235894165314e-08}. Best is trial 31 with value: 0.6414124100102845.\u001b[0m\n",
      "\u001b[32m[I 2023-05-07 17:37:58,814]\u001b[0m Trial 33 finished with value: 0.6393555022283167 and parameters: {'max_depth': 3, 'learning_rate': 0.018705792612396587, 'n_estimators': 310, 'min_child_weight': 5, 'gamma': 4.3052875241220966e-06, 'subsample': 0.4568726784780924, 'colsample_bytree': 0.04917266745092585, 'reg_alpha': 0.6754496366860026, 'reg_lambda': 3.772893112345432e-07}. Best is trial 31 with value: 0.6414124100102845.\u001b[0m\n",
      "\u001b[32m[I 2023-05-07 17:37:59,857]\u001b[0m Trial 34 finished with value: 0.6270140555365101 and parameters: {'max_depth': 5, 'learning_rate': 0.03248549028295066, 'n_estimators': 367, 'min_child_weight': 5, 'gamma': 1.8793737596326681e-06, 'subsample': 0.9471940551626806, 'colsample_bytree': 0.01761449427331945, 'reg_alpha': 0.07886998915540523, 'reg_lambda': 8.031850535917987e-07}. Best is trial 31 with value: 0.6414124100102845.\u001b[0m\n",
      "\u001b[32m[I 2023-05-07 17:38:00,679]\u001b[0m Trial 35 finished with value: 0.6403839561193007 and parameters: {'max_depth': 4, 'learning_rate': 0.018108142420886313, 'n_estimators': 305, 'min_child_weight': 4, 'gamma': 1.8840835337893054e-05, 'subsample': 0.2931292577214532, 'colsample_bytree': 0.10672346420679095, 'reg_alpha': 0.7394212947038861, 'reg_lambda': 1.8195017219969598e-07}. Best is trial 31 with value: 0.6414124100102845.\u001b[0m\n",
      "\u001b[32m[I 2023-05-07 17:38:01,582]\u001b[0m Trial 36 finished with value: 0.643126499828591 and parameters: {'max_depth': 4, 'learning_rate': 0.013130683570370536, 'n_estimators': 324, 'min_child_weight': 4, 'gamma': 1.7881811503937416e-05, 'subsample': 0.2904865030971706, 'colsample_bytree': 0.1154943972559505, 'reg_alpha': 0.9332663576436636, 'reg_lambda': 3.097617203121155e-06}. Best is trial 36 with value: 0.643126499828591.\u001b[0m\n",
      "\u001b[32m[I 2023-05-07 17:38:02,357]\u001b[0m Trial 37 finished with value: 0.6400411381556393 and parameters: {'max_depth': 4, 'learning_rate': 0.012206550999105737, 'n_estimators': 329, 'min_child_weight': 4, 'gamma': 2.1656038272096688e-05, 'subsample': 0.16164350418609982, 'colsample_bytree': 0.12675655674811548, 'reg_alpha': 0.9190470125782071, 'reg_lambda': 3.3445004923519464e-06}. Best is trial 36 with value: 0.643126499828591.\u001b[0m\n"
     ]
    },
    {
     "name": "stderr",
     "output_type": "stream",
     "text": [
      "\u001b[32m[I 2023-05-07 17:38:03,104]\u001b[0m Trial 38 finished with value: 0.646554679465204 and parameters: {'max_depth': 2, 'learning_rate': 0.026708233108743616, 'n_estimators': 408, 'min_child_weight': 3, 'gamma': 1.7336746819929786e-05, 'subsample': 0.28352295736962096, 'colsample_bytree': 0.17104103213336364, 'reg_alpha': 0.2521257168444201, 'reg_lambda': 1.4643646870319612e-07}. Best is trial 38 with value: 0.646554679465204.\u001b[0m\n",
      "\u001b[32m[I 2023-05-07 17:38:03,838]\u001b[0m Trial 39 finished with value: 0.6410695920466233 and parameters: {'max_depth': 2, 'learning_rate': 0.027720004531552156, 'n_estimators': 487, 'min_child_weight': 3, 'gamma': 5.763300893731728e-05, 'subsample': 0.09855220875328746, 'colsample_bytree': 0.1609977088638472, 'reg_alpha': 0.21667526458984282, 'reg_lambda': 9.092389321013607e-08}. Best is trial 38 with value: 0.646554679465204.\u001b[0m\n",
      "\u001b[32m[I 2023-05-07 17:38:04,594]\u001b[0m Trial 40 finished with value: 0.6390126842646555 and parameters: {'max_depth': 2, 'learning_rate': 0.026699291514482356, 'n_estimators': 498, 'min_child_weight': 3, 'gamma': 5.0350771152224685e-06, 'subsample': 0.11478093059696715, 'colsample_bytree': 0.1760572004671795, 'reg_alpha': 0.256440605919702, 'reg_lambda': 1.122169672700428e-06}. Best is trial 38 with value: 0.646554679465204.\u001b[0m\n",
      "\u001b[32m[I 2023-05-07 17:38:05,344]\u001b[0m Trial 41 finished with value: 0.6441549537195749 and parameters: {'max_depth': 2, 'learning_rate': 0.03167535440099778, 'n_estimators': 477, 'min_child_weight': 3, 'gamma': 7.268052519199465e-05, 'subsample': 0.24100421077767048, 'colsample_bytree': 0.19008513890805329, 'reg_alpha': 0.16613969055192826, 'reg_lambda': 1.2276661824879303e-07}. Best is trial 38 with value: 0.646554679465204.\u001b[0m\n",
      "\u001b[32m[I 2023-05-07 17:38:05,911]\u001b[0m Trial 42 finished with value: 0.6403839561193007 and parameters: {'max_depth': 1, 'learning_rate': 0.02525826483616825, 'n_estimators': 469, 'min_child_weight': 3, 'gamma': 7.414521388651705e-05, 'subsample': 0.15740679387541787, 'colsample_bytree': 0.20090102102401977, 'reg_alpha': 0.21702779289966037, 'reg_lambda': 1.1866513011638708e-07}. Best is trial 38 with value: 0.646554679465204.\u001b[0m\n",
      "\u001b[32m[I 2023-05-07 17:38:06,562]\u001b[0m Trial 43 finished with value: 0.6256427836818649 and parameters: {'max_depth': 2, 'learning_rate': 0.08589823616772913, 'n_estimators': 450, 'min_child_weight': 3, 'gamma': 1.8978676113577753e-05, 'subsample': 0.09055155769001341, 'colsample_bytree': 0.21525975509012982, 'reg_alpha': 0.053410394447260964, 'reg_lambda': 3.548363422842963e-07}. Best is trial 38 with value: 0.646554679465204.\u001b[0m\n",
      "\u001b[32m[I 2023-05-07 17:38:07,262]\u001b[0m Trial 44 finished with value: 0.6403839561193007 and parameters: {'max_depth': 2, 'learning_rate': 0.052292382545610264, 'n_estimators': 412, 'min_child_weight': 4, 'gamma': 0.00021251296958707565, 'subsample': 0.343063105940662, 'colsample_bytree': 0.14008522388929984, 'reg_alpha': 0.22110649267681662, 'reg_lambda': 8.187141714342266e-08}. Best is trial 38 with value: 0.646554679465204.\u001b[0m\n",
      "\u001b[32m[I 2023-05-07 17:38:07,809]\u001b[0m Trial 45 finished with value: 0.6438121357559136 and parameters: {'max_depth': 1, 'learning_rate': 0.028907820803626888, 'n_estimators': 476, 'min_child_weight': 2, 'gamma': 9.3010817918382e-06, 'subsample': 0.12837423888426666, 'colsample_bytree': 0.26645636154513536, 'reg_alpha': 0.377646652783668, 'reg_lambda': 4.4372648455032436e-06}. Best is trial 38 with value: 0.646554679465204.\u001b[0m\n",
      "\u001b[32m[I 2023-05-07 17:38:08,391]\u001b[0m Trial 46 finished with value: 0.6420980459376071 and parameters: {'max_depth': 1, 'learning_rate': 0.021232256425786564, 'n_estimators': 467, 'min_child_weight': 2, 'gamma': 9.400885378554803e-06, 'subsample': 0.18403003468185947, 'colsample_bytree': 0.27445902838620556, 'reg_alpha': 0.9056395765000966, 'reg_lambda': 5.31910264932021e-06}. Best is trial 38 with value: 0.646554679465204.\u001b[0m\n",
      "\u001b[32m[I 2023-05-07 17:38:08,955]\u001b[0m Trial 47 finished with value: 0.6376414124100103 and parameters: {'max_depth': 1, 'learning_rate': 0.04461672153559503, 'n_estimators': 467, 'min_child_weight': 1, 'gamma': 7.350781610949836e-07, 'subsample': 0.13530176910716382, 'colsample_bytree': 0.2884341999997537, 'reg_alpha': 0.5045206242111833, 'reg_lambda': 4.454983092306282e-06}. Best is trial 38 with value: 0.646554679465204.\u001b[0m\n",
      "\u001b[32m[I 2023-05-07 17:38:09,501]\u001b[0m Trial 48 finished with value: 0.6383270483373329 and parameters: {'max_depth': 1, 'learning_rate': 0.0678561265689963, 'n_estimators': 442, 'min_child_weight': 2, 'gamma': 8.90918896704736e-06, 'subsample': 0.16846721387248548, 'colsample_bytree': 0.34956256232872573, 'reg_alpha': 0.9158369696729486, 'reg_lambda': 9.750479272337672e-06}. Best is trial 38 with value: 0.646554679465204.\u001b[0m\n",
      "\u001b[32m[I 2023-05-07 17:38:10,104]\u001b[0m Trial 49 finished with value: 0.6438121357559136 and parameters: {'max_depth': 1, 'learning_rate': 0.021928752842173313, 'n_estimators': 476, 'min_child_weight': 1, 'gamma': 4.284856181527274e-06, 'subsample': 0.22671261738686888, 'colsample_bytree': 0.23683484512657418, 'reg_alpha': 0.05648802802477201, 'reg_lambda': 1.8101006579154887e-06}. Best is trial 38 with value: 0.646554679465204.\u001b[0m\n",
      "\u001b[32m[I 2023-05-07 17:38:10,625]\u001b[0m Trial 50 finished with value: 0.6468974974288653 and parameters: {'max_depth': 1, 'learning_rate': 0.030454409659750114, 'n_estimators': 406, 'min_child_weight': 1, 'gamma': 4.04760301331547e-07, 'subsample': 0.23512553733285657, 'colsample_bytree': 0.212339744526465, 'reg_alpha': 0.04901001093091017, 'reg_lambda': 1.6064209449710061e-06}. Best is trial 50 with value: 0.6468974974288653.\u001b[0m\n",
      "\u001b[32m[I 2023-05-07 17:38:11,176]\u001b[0m Trial 51 finished with value: 0.6458690435378814 and parameters: {'max_depth': 1, 'learning_rate': 0.02900941334686942, 'n_estimators': 431, 'min_child_weight': 1, 'gamma': 2.695687492788717e-07, 'subsample': 0.22785333180568046, 'colsample_bytree': 0.22500466305256345, 'reg_alpha': 0.09600893752175726, 'reg_lambda': 2.4755546363873467e-06}. Best is trial 50 with value: 0.6468974974288653.\u001b[0m\n",
      "\u001b[32m[I 2023-05-07 17:38:11,706]\u001b[0m Trial 52 finished with value: 0.6462118615015426 and parameters: {'max_depth': 1, 'learning_rate': 0.0440411969763823, 'n_estimators': 418, 'min_child_weight': 1, 'gamma': 1.9131393970076969e-07, 'subsample': 0.23138938965161787, 'colsample_bytree': 0.22266200549558252, 'reg_alpha': 0.06753980002665969, 'reg_lambda': 1.4763584274390233e-06}. Best is trial 50 with value: 0.6468974974288653.\u001b[0m\n",
      "\u001b[32m[I 2023-05-07 17:38:12,220]\u001b[0m Trial 53 finished with value: 0.6455262255742201 and parameters: {'max_depth': 1, 'learning_rate': 0.032527110183748854, 'n_estimators': 404, 'min_child_weight': 1, 'gamma': 2.0157877427899244e-07, 'subsample': 0.21466654770290577, 'colsample_bytree': 0.18996355072566373, 'reg_alpha': 0.04981583114027076, 'reg_lambda': 1.4979750199149747e-06}. Best is trial 50 with value: 0.6468974974288653.\u001b[0m\n",
      "\u001b[32m[I 2023-05-07 17:38:12,748]\u001b[0m Trial 54 finished with value: 0.6451834076105588 and parameters: {'max_depth': 1, 'learning_rate': 0.04324645809752674, 'n_estimators': 409, 'min_child_weight': 1, 'gamma': 1.223303873872316e-07, 'subsample': 0.22173655831787195, 'colsample_bytree': 0.18373853037307852, 'reg_alpha': 0.03703317457083778, 'reg_lambda': 6.459480566405376e-07}. Best is trial 50 with value: 0.6468974974288653.\u001b[0m\n",
      "\u001b[32m[I 2023-05-07 17:38:13,259]\u001b[0m Trial 55 finished with value: 0.6410695920466233 and parameters: {'max_depth': 1, 'learning_rate': 0.04221477484534095, 'n_estimators': 403, 'min_child_weight': 1, 'gamma': 1.2001168530837113e-07, 'subsample': 0.20395995965113406, 'colsample_bytree': 0.17551380843334433, 'reg_alpha': 0.03316185906857913, 'reg_lambda': 7.988240721461841e-07}. Best is trial 50 with value: 0.6468974974288653.\u001b[0m\n",
      "\u001b[32m[I 2023-05-07 17:38:13,880]\u001b[0m Trial 56 finished with value: 0.6448405896468975 and parameters: {'max_depth': 1, 'learning_rate': 0.04594248807113224, 'n_estimators': 433, 'min_child_weight': 1, 'gamma': 1.5948222586753328e-07, 'subsample': 0.36822149361301776, 'colsample_bytree': 0.14055333769261089, 'reg_alpha': 0.07281875942304426, 'reg_lambda': 1.3183536709871818e-06}. Best is trial 50 with value: 0.6468974974288653.\u001b[0m\n"
     ]
    },
    {
     "name": "stderr",
     "output_type": "stream",
     "text": [
      "\u001b[32m[I 2023-05-07 17:38:14,469]\u001b[0m Trial 57 finished with value: 0.6444977716832362 and parameters: {'max_depth': 1, 'learning_rate': 0.03688611664184769, 'n_estimators': 387, 'min_child_weight': 1, 'gamma': 7.687751934954559e-08, 'subsample': 0.3177698575802381, 'colsample_bytree': 0.23470035474160852, 'reg_alpha': 0.024087395122661382, 'reg_lambda': 1.5623583983051416e-05}. Best is trial 50 with value: 0.6468974974288653.\u001b[0m\n",
      "\u001b[32m[I 2023-05-07 17:38:17,329]\u001b[0m Trial 58 finished with value: 0.5923894412067192 and parameters: {'max_depth': 9, 'learning_rate': 0.057082920038240594, 'n_estimators': 424, 'min_child_weight': 1, 'gamma': 3.562041452244345e-07, 'subsample': 0.2581757367528529, 'colsample_bytree': 0.461539759946244, 'reg_alpha': 0.013432584839161125, 'reg_lambda': 3.2270515511767565e-07}. Best is trial 50 with value: 0.6468974974288653.\u001b[0m\n",
      "\u001b[32m[I 2023-05-07 17:38:17,881]\u001b[0m Trial 59 finished with value: 0.6427836818649297 and parameters: {'max_depth': 1, 'learning_rate': 0.03228958967823824, 'n_estimators': 403, 'min_child_weight': 2, 'gamma': 5.4965711999792925e-08, 'subsample': 0.26016810419421477, 'colsample_bytree': 0.17587324732976836, 'reg_alpha': 0.04165183225250127, 'reg_lambda': 2.088856248051934e-06}. Best is trial 50 with value: 0.6468974974288653.\u001b[0m\n",
      "\u001b[32m[I 2023-05-07 17:38:18,514]\u001b[0m Trial 60 finished with value: 0.6390126842646555 and parameters: {'max_depth': 1, 'learning_rate': 0.06323314364123823, 'n_estimators': 447, 'min_child_weight': 1, 'gamma': 6.372185041357382e-07, 'subsample': 0.3183969572505978, 'colsample_bytree': 0.1531387258112954, 'reg_alpha': 0.13507699123665004, 'reg_lambda': 3.126374416531149e-05}. Best is trial 50 with value: 0.6468974974288653.\u001b[0m\n",
      "\u001b[32m[I 2023-05-07 17:38:19,136]\u001b[0m Trial 61 finished with value: 0.6427836818649297 and parameters: {'max_depth': 1, 'learning_rate': 0.04633197782570678, 'n_estimators': 423, 'min_child_weight': 1, 'gamma': 4.2027941268146457e-07, 'subsample': 0.3613375931887958, 'colsample_bytree': 0.1459194635503595, 'reg_alpha': 0.06622461368502759, 'reg_lambda': 1.3368123537694255e-06}. Best is trial 50 with value: 0.6468974974288653.\u001b[0m\n",
      "\u001b[32m[I 2023-05-07 17:38:19,686]\u001b[0m Trial 62 finished with value: 0.6379842303736716 and parameters: {'max_depth': 1, 'learning_rate': 0.04064635169383127, 'n_estimators': 430, 'min_child_weight': 1, 'gamma': 3.0986414594620414e-08, 'subsample': 0.1980133646900153, 'colsample_bytree': 0.13032178121561794, 'reg_alpha': 0.08968068145778045, 'reg_lambda': 7.920565714642308e-07}. Best is trial 50 with value: 0.6468974974288653.\u001b[0m\n",
      "\u001b[32m[I 2023-05-07 17:38:20,413]\u001b[0m Trial 63 finished with value: 0.6448405896468975 and parameters: {'max_depth': 2, 'learning_rate': 0.04787206293162967, 'n_estimators': 383, 'min_child_weight': 1, 'gamma': 2.015470005000312e-07, 'subsample': 0.39660650041200307, 'colsample_bytree': 0.20517655658898312, 'reg_alpha': 0.02628345979430079, 'reg_lambda': 9.868100059383494e-06}. Best is trial 50 with value: 0.6468974974288653.\u001b[0m\n",
      "\u001b[32m[I 2023-05-07 17:38:20,940]\u001b[0m Trial 64 finished with value: 0.6352416866643812 and parameters: {'max_depth': 1, 'learning_rate': 0.03736018196853413, 'n_estimators': 410, 'min_child_weight': 2, 'gamma': 1.0469253438336164e-06, 'subsample': 0.21403599231996784, 'colsample_bytree': 0.1271634673491124, 'reg_alpha': 0.11528733731547432, 'reg_lambda': 1.66860771763035e-06}. Best is trial 50 with value: 0.6468974974288653.\u001b[0m\n",
      "\u001b[32m[I 2023-05-07 17:38:21,542]\u001b[0m Trial 65 finished with value: 0.643126499828591 and parameters: {'max_depth': 2, 'learning_rate': 0.02467661122292597, 'n_estimators': 358, 'min_child_weight': 1, 'gamma': 2.560866563823397e-07, 'subsample': 0.2422804742468826, 'colsample_bytree': 0.17001869203360526, 'reg_alpha': 0.01579559524559888, 'reg_lambda': 2.4340202613817226e-07}. Best is trial 50 with value: 0.6468974974288653.\u001b[0m\n",
      "\u001b[32m[I 2023-05-07 17:38:22,242]\u001b[0m Trial 66 finished with value: 0.6393555022283167 and parameters: {'max_depth': 2, 'learning_rate': 0.029378741184609588, 'n_estimators': 451, 'min_child_weight': 2, 'gamma': 1.5615041692400818e-07, 'subsample': 0.1709470002405276, 'colsample_bytree': 0.22933980115881292, 'reg_alpha': 0.03856051856101547, 'reg_lambda': 6.738277116237168e-07}. Best is trial 50 with value: 0.6468974974288653.\u001b[0m\n",
      "\u001b[32m[I 2023-05-07 17:38:23,987]\u001b[0m Trial 67 finished with value: 0.6194720603359616 and parameters: {'max_depth': 8, 'learning_rate': 0.03598955461594106, 'n_estimators': 437, 'min_child_weight': 1, 'gamma': 4.1175655839684005e-07, 'subsample': 0.14727668509899397, 'colsample_bytree': 0.19947727480155256, 'reg_alpha': 0.004418327773533211, 'reg_lambda': 4.461454858407591e-07}. Best is trial 50 with value: 0.6468974974288653.\u001b[0m\n",
      "\u001b[32m[I 2023-05-07 17:38:24,525]\u001b[0m Trial 68 finished with value: 0.6393555022283167 and parameters: {'max_depth': 1, 'learning_rate': 0.045449852401997844, 'n_estimators': 393, 'min_child_weight': 2, 'gamma': 2.2486651983846737e-08, 'subsample': 0.27187053296560854, 'colsample_bytree': 0.15576106930048467, 'reg_alpha': 0.3278996482658527, 'reg_lambda': 2.438520339325733e-06}. Best is trial 50 with value: 0.6468974974288653.\u001b[0m\n",
      "\u001b[32m[I 2023-05-07 17:38:25,116]\u001b[0m Trial 69 finished with value: 0.6414124100102845 and parameters: {'max_depth': 1, 'learning_rate': 0.08071629152813081, 'n_estimators': 378, 'min_child_weight': 1, 'gamma': 9.943063241841118e-08, 'subsample': 0.4812211012438867, 'colsample_bytree': 0.0877719052948461, 'reg_alpha': 0.06658683256907878, 'reg_lambda': 6.320794311202701e-06}. Best is trial 50 with value: 0.6468974974288653.\u001b[0m\n",
      "\u001b[32m[I 2023-05-07 17:38:25,899]\u001b[0m Trial 70 finished with value: 0.6376414124100103 and parameters: {'max_depth': 2, 'learning_rate': 0.05862389387498605, 'n_estimators': 416, 'min_child_weight': 2, 'gamma': 1.391881186970693e-06, 'subsample': 0.32925847604592634, 'colsample_bytree': 0.3222119904619345, 'reg_alpha': 0.008480583278578988, 'reg_lambda': 1.24154268157268e-06}. Best is trial 50 with value: 0.6468974974288653.\u001b[0m\n",
      "\u001b[32m[I 2023-05-07 17:38:26,676]\u001b[0m Trial 71 finished with value: 0.6434693177922524 and parameters: {'max_depth': 2, 'learning_rate': 0.049452014614895595, 'n_estimators': 394, 'min_child_weight': 1, 'gamma': 1.6433730954763209e-07, 'subsample': 0.4194205916193146, 'colsample_bytree': 0.1997198253903899, 'reg_alpha': 0.025339425473991685, 'reg_lambda': 9.408213830579103e-06}. Best is trial 50 with value: 0.6468974974288653.\u001b[0m\n",
      "\u001b[32m[I 2023-05-07 17:38:27,221]\u001b[0m Trial 72 finished with value: 0.6451834076105588 and parameters: {'max_depth': 1, 'learning_rate': 0.048983774634612204, 'n_estimators': 356, 'min_child_weight': 1, 'gamma': 2.0716720677084855e-07, 'subsample': 0.40992340440344815, 'colsample_bytree': 0.23410121233444361, 'reg_alpha': 0.1451461252255275, 'reg_lambda': 2.482604199630698e-06}. Best is trial 50 with value: 0.6468974974288653.\u001b[0m\n",
      "\u001b[32m[I 2023-05-07 17:38:27,764]\u001b[0m Trial 73 finished with value: 0.6472403153925266 and parameters: {'max_depth': 1, 'learning_rate': 0.03966080898807814, 'n_estimators': 364, 'min_child_weight': 1, 'gamma': 6.137097181877512e-08, 'subsample': 0.3626091328468229, 'colsample_bytree': 0.23718996547358304, 'reg_alpha': 0.1235693909934377, 'reg_lambda': 5.456688206804607e-07}. Best is trial 73 with value: 0.6472403153925266.\u001b[0m\n",
      "\u001b[32m[I 2023-05-07 17:38:28,290]\u001b[0m Trial 74 finished with value: 0.6482687692835104 and parameters: {'max_depth': 1, 'learning_rate': 0.03496803155832053, 'n_estimators': 361, 'min_child_weight': 2, 'gamma': 5.1183797356752663e-08, 'subsample': 0.2908383196527936, 'colsample_bytree': 0.2534359431567382, 'reg_alpha': 0.1499474429045796, 'reg_lambda': 5.325846922860776e-07}. Best is trial 74 with value: 0.6482687692835104.\u001b[0m\n",
      "\u001b[32m[I 2023-05-07 17:38:28,802]\u001b[0m Trial 75 finished with value: 0.6427836818649297 and parameters: {'max_depth': 1, 'learning_rate': 0.024330728281770464, 'n_estimators': 372, 'min_child_weight': 2, 'gamma': 5.656725239515794e-08, 'subsample': 0.21860559566212764, 'colsample_bytree': 0.4049098983871453, 'reg_alpha': 0.4103444688785966, 'reg_lambda': 5.48499774758969e-07}. Best is trial 74 with value: 0.6482687692835104.\u001b[0m\n"
     ]
    },
    {
     "name": "stderr",
     "output_type": "stream",
     "text": [
      "\u001b[32m[I 2023-05-07 17:38:29,338]\u001b[0m Trial 76 finished with value: 0.6462118615015426 and parameters: {'max_depth': 1, 'learning_rate': 0.029958585798477346, 'n_estimators': 405, 'min_child_weight': 2, 'gamma': 1.1419476312643685e-08, 'subsample': 0.1871210566887668, 'colsample_bytree': 0.25460810072776097, 'reg_alpha': 0.15938161288802186, 'reg_lambda': 2.0219154879581015e-07}. Best is trial 74 with value: 0.6482687692835104.\u001b[0m\n",
      "\u001b[32m[I 2023-05-07 17:38:30,021]\u001b[0m Trial 77 finished with value: 0.6369557764826876 and parameters: {'max_depth': 2, 'learning_rate': 0.03063222638483427, 'n_estimators': 363, 'min_child_weight': 2, 'gamma': 1.1320494133210073e-08, 'subsample': 0.18572549673974637, 'colsample_bytree': 0.30025719930886147, 'reg_alpha': 0.1374883578355301, 'reg_lambda': 2.6815241771393904e-07}. Best is trial 74 with value: 0.6482687692835104.\u001b[0m\n",
      "\u001b[32m[I 2023-05-07 17:38:30,730]\u001b[0m Trial 78 finished with value: 0.6455262255742201 and parameters: {'max_depth': 1, 'learning_rate': 0.03475419563386802, 'n_estimators': 457, 'min_child_weight': 2, 'gamma': 2.5961565983722583e-08, 'subsample': 0.2650268751323824, 'colsample_bytree': 0.23922688218823002, 'reg_alpha': 0.2217871043811706, 'reg_lambda': 1.6901734851106202e-07}. Best is trial 74 with value: 0.6482687692835104.\u001b[0m\n",
      "\u001b[32m[I 2023-05-07 17:38:31,448]\u001b[0m Trial 79 finished with value: 0.6403839561193007 and parameters: {'max_depth': 2, 'learning_rate': 0.027370190457574054, 'n_estimators': 344, 'min_child_weight': 2, 'gamma': 4.454678852855157e-08, 'subsample': 0.3038843925547206, 'colsample_bytree': 0.25409461432239616, 'reg_alpha': 0.3426306387004477, 'reg_lambda': 2.1303420650241207e-07}. Best is trial 74 with value: 0.6482687692835104.\u001b[0m\n",
      "\u001b[32m[I 2023-05-07 17:38:31,969]\u001b[0m Trial 80 finished with value: 0.6424408639012684 and parameters: {'max_depth': 1, 'learning_rate': 0.019868679661789426, 'n_estimators': 333, 'min_child_weight': 9, 'gamma': 1.4691663780279095e-08, 'subsample': 0.24896211532734722, 'colsample_bytree': 0.3172614128775666, 'reg_alpha': 0.5479486495557913, 'reg_lambda': 3.621833084959228e-07}. Best is trial 74 with value: 0.6482687692835104.\u001b[0m\n",
      "\u001b[32m[I 2023-05-07 17:38:32,588]\u001b[0m Trial 81 finished with value: 0.6455262255742201 and parameters: {'max_depth': 1, 'learning_rate': 0.03437615091957341, 'n_estimators': 401, 'min_child_weight': 2, 'gamma': 2.1952181207159316e-08, 'subsample': 0.27831615469315646, 'colsample_bytree': 0.257744772827263, 'reg_alpha': 0.22085038485937797, 'reg_lambda': 1.5028329867339e-07}. Best is trial 74 with value: 0.6482687692835104.\u001b[0m\n",
      "\u001b[32m[I 2023-05-07 17:38:33,267]\u001b[0m Trial 82 finished with value: 0.6424408639012684 and parameters: {'max_depth': 1, 'learning_rate': 0.023711577398203055, 'n_estimators': 456, 'min_child_weight': 3, 'gamma': 7.264427693495893e-08, 'subsample': 0.18491311612426528, 'colsample_bytree': 0.22329559491685022, 'reg_alpha': 0.10941366959908679, 'reg_lambda': 4.34896058195501e-08}. Best is trial 74 with value: 0.6482687692835104.\u001b[0m\n",
      "\u001b[32m[I 2023-05-07 17:38:33,923]\u001b[0m Trial 83 finished with value: 0.6444977716832362 and parameters: {'max_depth': 1, 'learning_rate': 0.039277693931907436, 'n_estimators': 426, 'min_child_weight': 2, 'gamma': 3.7492191839248834e-08, 'subsample': 0.29366978344377376, 'colsample_bytree': 0.2715192222917196, 'reg_alpha': 0.20726094219188781, 'reg_lambda': 1.252736017022382e-07}. Best is trial 74 with value: 0.6482687692835104.\u001b[0m\n",
      "\u001b[32m[I 2023-05-07 17:38:34,704]\u001b[0m Trial 84 finished with value: 0.6424408639012684 and parameters: {'max_depth': 2, 'learning_rate': 0.028292162736420573, 'n_estimators': 378, 'min_child_weight': 1, 'gamma': 2.8174421362691097e-08, 'subsample': 0.35423553276235853, 'colsample_bytree': 0.3491289171788001, 'reg_alpha': 0.05266727598273213, 'reg_lambda': 9.67982464087291e-07}. Best is trial 74 with value: 0.6482687692835104.\u001b[0m\n",
      "\u001b[32m[I 2023-05-07 17:38:35,296]\u001b[0m Trial 85 finished with value: 0.6438121357559136 and parameters: {'max_depth': 1, 'learning_rate': 0.03337210272744554, 'n_estimators': 416, 'min_child_weight': 2, 'gamma': 1.7152359706090198e-08, 'subsample': 0.24268143123455438, 'colsample_bytree': 0.20694939228933856, 'reg_alpha': 0.5542033773059032, 'reg_lambda': 2.3068359958009422e-07}. Best is trial 74 with value: 0.6482687692835104.\u001b[0m\n",
      "\u001b[32m[I 2023-05-07 17:38:35,873]\u001b[0m Trial 86 finished with value: 0.6434693177922524 and parameters: {'max_depth': 1, 'learning_rate': 0.030204789635558168, 'n_estimators': 440, 'min_child_weight': 3, 'gamma': 8.842715219181323e-08, 'subsample': 0.20552276333814015, 'colsample_bytree': 0.24468396791485233, 'reg_alpha': 0.10087671508992607, 'reg_lambda': 4.922837309028951e-07}. Best is trial 74 with value: 0.6482687692835104.\u001b[0m\n",
      "\u001b[32m[I 2023-05-07 17:38:36,679]\u001b[0m Trial 87 finished with value: 0.6455262255742201 and parameters: {'max_depth': 2, 'learning_rate': 0.021790566874810253, 'n_estimators': 456, 'min_child_weight': 1, 'gamma': 5.0247234090577205e-08, 'subsample': 0.2649025076162301, 'colsample_bytree': 0.2839420712146729, 'reg_alpha': 0.1743688262688182, 'reg_lambda': 3.2910098652361037e-06}. Best is trial 74 with value: 0.6482687692835104.\u001b[0m\n",
      "\u001b[32m[I 2023-05-07 17:38:37,196]\u001b[0m Trial 88 finished with value: 0.6390126842646555 and parameters: {'max_depth': 1, 'learning_rate': 0.01765719647457575, 'n_estimators': 389, 'min_child_weight': 2, 'gamma': 1.0720448813259824e-08, 'subsample': 0.15194585941457742, 'colsample_bytree': 0.2084276979594398, 'reg_alpha': 0.3220497193821344, 'reg_lambda': 2.2814460801807085e-08}. Best is trial 74 with value: 0.6482687692835104.\u001b[0m\n",
      "\u001b[32m[I 2023-05-07 17:38:37,839]\u001b[0m Trial 89 finished with value: 0.6424408639012684 and parameters: {'max_depth': 2, 'learning_rate': 0.03931246007927659, 'n_estimators': 406, 'min_child_weight': 1, 'gamma': 2.7507512025486494e-08, 'subsample': 0.17344714820396287, 'colsample_bytree': 0.16324527208536302, 'reg_alpha': 0.07958677870358004, 'reg_lambda': 5.269366643843349e-08}. Best is trial 74 with value: 0.6482687692835104.\u001b[0m\n",
      "\u001b[32m[I 2023-05-07 17:38:38,092]\u001b[0m Trial 90 finished with value: 0.6242715118272197 and parameters: {'max_depth': 1, 'learning_rate': 0.026016297844154056, 'n_estimators': 129, 'min_child_weight': 3, 'gamma': 2.749911989054976e-07, 'subsample': 0.5195123055664917, 'colsample_bytree': 0.1767004075993472, 'reg_alpha': 0.5509646403739352, 'reg_lambda': 9.211094079650944e-07}. Best is trial 74 with value: 0.6482687692835104.\u001b[0m\n",
      "\u001b[32m[I 2023-05-07 17:38:38,651]\u001b[0m Trial 91 finished with value: 0.6455262255742201 and parameters: {'max_depth': 1, 'learning_rate': 0.03342248307323859, 'n_estimators': 399, 'min_child_weight': 2, 'gamma': 1.9118680097938424e-08, 'subsample': 0.2858225318858414, 'colsample_bytree': 0.24895214597770832, 'reg_alpha': 0.24226157382790062, 'reg_lambda': 1.257789098100633e-07}. Best is trial 74 with value: 0.6482687692835104.\u001b[0m\n",
      "\u001b[32m[I 2023-05-07 17:38:39,246]\u001b[0m Trial 92 finished with value: 0.6451834076105588 and parameters: {'max_depth': 1, 'learning_rate': 0.036144109781389086, 'n_estimators': 432, 'min_child_weight': 2, 'gamma': 3.660680476070745e-08, 'subsample': 0.3128437544038137, 'colsample_bytree': 0.2690808315093769, 'reg_alpha': 0.20491312650900795, 'reg_lambda': 1.8598355420671606e-07}. Best is trial 74 with value: 0.6482687692835104.\u001b[0m\n",
      "\u001b[32m[I 2023-05-07 17:38:39,730]\u001b[0m Trial 93 finished with value: 0.643126499828591 and parameters: {'max_depth': 1, 'learning_rate': 0.033597824946751606, 'n_estimators': 350, 'min_child_weight': 1, 'gamma': 2.1390400945743073e-08, 'subsample': 0.2712668261702228, 'colsample_bytree': 0.3153957923291107, 'reg_alpha': 0.045679959921646016, 'reg_lambda': 8.543064302597025e-08}. Best is trial 74 with value: 0.6482687692835104.\u001b[0m\n",
      "\u001b[32m[I 2023-05-07 17:38:40,234]\u001b[0m Trial 94 finished with value: 0.6420980459376071 and parameters: {'max_depth': 1, 'learning_rate': 0.040493405978277865, 'n_estimators': 373, 'min_child_weight': 2, 'gamma': 6.50145722398271e-08, 'subsample': 0.22154671953630953, 'colsample_bytree': 0.18687113853493215, 'reg_alpha': 0.0987056579392173, 'reg_lambda': 3.3775379079577787e-07}. Best is trial 74 with value: 0.6482687692835104.\u001b[0m\n"
     ]
    },
    {
     "name": "stderr",
     "output_type": "stream",
     "text": [
      "\u001b[32m[I 2023-05-07 17:38:40,799]\u001b[0m Trial 95 finished with value: 0.6438121357559136 and parameters: {'max_depth': 1, 'learning_rate': 0.02650500136719579, 'n_estimators': 397, 'min_child_weight': 1, 'gamma': 4.1335823718521406e-08, 'subsample': 0.33452849043011723, 'colsample_bytree': 0.22106594427684478, 'reg_alpha': 0.275878236431902, 'reg_lambda': 1.5788034899052136e-07}. Best is trial 74 with value: 0.6482687692835104.\u001b[0m\n",
      "\u001b[32m[I 2023-05-07 17:38:42,283]\u001b[0m Trial 96 finished with value: 0.6321563249914296 and parameters: {'max_depth': 6, 'learning_rate': 0.029817024305641433, 'n_estimators': 420, 'min_child_weight': 2, 'gamma': 9.757973845060168e-08, 'subsample': 0.23370542902652452, 'colsample_bytree': 0.25600018545677566, 'reg_alpha': 0.1668661933561933, 'reg_lambda': 1.6816161230832755e-06}. Best is trial 74 with value: 0.6482687692835104.\u001b[0m\n",
      "\u001b[32m[I 2023-05-07 17:38:43,060]\u001b[0m Trial 97 finished with value: 0.6417552279739458 and parameters: {'max_depth': 2, 'learning_rate': 0.02290960510731439, 'n_estimators': 462, 'min_child_weight': 3, 'gamma': 1.1187368441163258e-08, 'subsample': 0.1981745248839142, 'colsample_bytree': 0.29883420955930384, 'reg_alpha': 0.0556827454261812, 'reg_lambda': 6.070010954697107e-07}. Best is trial 74 with value: 0.6482687692835104.\u001b[0m\n",
      "\u001b[32m[I 2023-05-07 17:38:43,773]\u001b[0m Trial 98 finished with value: 0.6451834076105588 and parameters: {'max_depth': 1, 'learning_rate': 0.05191015438367817, 'n_estimators': 487, 'min_child_weight': 1, 'gamma': 1.2379921869332154e-07, 'subsample': 0.3766589012379963, 'colsample_bytree': 0.22289153002514506, 'reg_alpha': 0.017771566221908817, 'reg_lambda': 2.859510497957761e-07}. Best is trial 74 with value: 0.6482687692835104.\u001b[0m\n",
      "\u001b[32m[I 2023-05-07 17:38:45,706]\u001b[0m Trial 99 finished with value: 0.631470689064107 and parameters: {'max_depth': 7, 'learning_rate': 0.036313260782845025, 'n_estimators': 444, 'min_child_weight': 7, 'gamma': 1.7459163259900354e-08, 'subsample': 0.264199384180613, 'colsample_bytree': 0.1630271201398238, 'reg_alpha': 0.45425920663634933, 'reg_lambda': 9.924045808406195e-08}. Best is trial 74 with value: 0.6482687692835104.\u001b[0m\n",
      "\u001b[32m[I 2023-05-07 17:38:46,295]\u001b[0m Trial 100 finished with value: 0.6438121357559136 and parameters: {'max_depth': 1, 'learning_rate': 0.04228290462404844, 'n_estimators': 413, 'min_child_weight': 1, 'gamma': 7.050249026878958e-08, 'subsample': 0.29623439540997215, 'colsample_bytree': 0.18410698242407975, 'reg_alpha': 0.030053202573273805, 'reg_lambda': 6.040164367296146e-08}. Best is trial 74 with value: 0.6482687692835104.\u001b[0m\n",
      "\u001b[32m[I 2023-05-07 17:38:47,311]\u001b[0m Trial 101 finished with value: 0.6420980459376071 and parameters: {'max_depth': 3, 'learning_rate': 0.02001202630950869, 'n_estimators': 456, 'min_child_weight': 1, 'gamma': 3.8680112974936844e-08, 'subsample': 0.24580485031691574, 'colsample_bytree': 0.2752324324136904, 'reg_alpha': 0.18666052785764933, 'reg_lambda': 3.275644792104646e-06}. Best is trial 74 with value: 0.6482687692835104.\u001b[0m\n",
      "\u001b[32m[I 2023-05-07 17:38:48,075]\u001b[0m Trial 102 finished with value: 0.6438121357559136 and parameters: {'max_depth': 2, 'learning_rate': 0.021997276408093236, 'n_estimators': 427, 'min_child_weight': 1, 'gamma': 5.816629136679354e-08, 'subsample': 0.2668624814496236, 'colsample_bytree': 0.24732873134244515, 'reg_alpha': 0.14065453784473994, 'reg_lambda': 1.2504167177791033e-06}. Best is trial 74 with value: 0.6482687692835104.\u001b[0m\n",
      "\u001b[32m[I 2023-05-07 17:38:48,868]\u001b[0m Trial 103 finished with value: 0.6451834076105588 and parameters: {'max_depth': 3, 'learning_rate': 0.028085049292310513, 'n_estimators': 318, 'min_child_weight': 1, 'gamma': 2.712502697017026e-08, 'subsample': 0.34292265270585526, 'colsample_bytree': 0.2870003044523999, 'reg_alpha': 0.08350568225127285, 'reg_lambda': 4.1820833319644624e-07}. Best is trial 74 with value: 0.6482687692835104.\u001b[0m\n",
      "\u001b[32m[I 2023-05-07 17:38:49,642]\u001b[0m Trial 104 finished with value: 0.6448405896468975 and parameters: {'max_depth': 2, 'learning_rate': 0.024360694370699796, 'n_estimators': 443, 'min_child_weight': 2, 'gamma': 5.284116617058838e-07, 'subsample': 0.21990623346376578, 'colsample_bytree': 0.2144323466889109, 'reg_alpha': 0.278297226466256, 'reg_lambda': 3.616188292870511e-06}. Best is trial 74 with value: 0.6482687692835104.\u001b[0m\n",
      "\u001b[32m[I 2023-05-07 17:38:50,191]\u001b[0m Trial 105 finished with value: 0.6455262255742201 and parameters: {'max_depth': 1, 'learning_rate': 0.032321080359115954, 'n_estimators': 384, 'min_child_weight': 1, 'gamma': 2.7164410568098683e-07, 'subsample': 0.2790468478570346, 'colsample_bytree': 0.1917377035903063, 'reg_alpha': 0.6837885548188122, 'reg_lambda': 9.559513883845901e-07}. Best is trial 74 with value: 0.6482687692835104.\u001b[0m\n",
      "\u001b[32m[I 2023-05-07 17:38:50,880]\u001b[0m Trial 106 finished with value: 0.6441549537195749 and parameters: {'max_depth': 1, 'learning_rate': 0.034722422419612035, 'n_estimators': 407, 'min_child_weight': 2, 'gamma': 4.8391111614902766e-08, 'subsample': 0.18405226477916767, 'colsample_bytree': 0.36183062656538606, 'reg_alpha': 0.04273314049963125, 'reg_lambda': 1.913633397950782e-06}. Best is trial 74 with value: 0.6482687692835104.\u001b[0m\n",
      "\u001b[32m[I 2023-05-07 17:38:52,055]\u001b[0m Trial 107 finished with value: 0.6441549537195749 and parameters: {'max_depth': 2, 'learning_rate': 0.0305905648980743, 'n_estimators': 432, 'min_child_weight': 1, 'gamma': 1.2867559101062884e-07, 'subsample': 0.45476384928762975, 'colsample_bytree': 0.3327145471317162, 'reg_alpha': 0.13462043380437605, 'reg_lambda': 7.198323692256829e-07}. Best is trial 74 with value: 0.6482687692835104.\u001b[0m\n",
      "\u001b[32m[I 2023-05-07 17:38:52,640]\u001b[0m Trial 108 finished with value: 0.6383270483373329 and parameters: {'max_depth': 1, 'learning_rate': 0.021301517989822584, 'n_estimators': 365, 'min_child_weight': 1, 'gamma': 9.726894687840711e-08, 'subsample': 0.3130329851781491, 'colsample_bytree': 0.2940878056715147, 'reg_alpha': 0.0680921320558061, 'reg_lambda': 1.5400900250016657e-07}. Best is trial 74 with value: 0.6482687692835104.\u001b[0m\n",
      "\u001b[32m[I 2023-05-07 17:38:53,372]\u001b[0m Trial 109 finished with value: 0.6458690435378814 and parameters: {'max_depth': 1, 'learning_rate': 0.026011731332009045, 'n_estimators': 499, 'min_child_weight': 2, 'gamma': 1.4166257499888898e-08, 'subsample': 0.20641108641455003, 'colsample_bytree': 0.2349923634701205, 'reg_alpha': 0.433958178405407, 'reg_lambda': 2.422885637268446e-06}. Best is trial 74 with value: 0.6482687692835104.\u001b[0m\n",
      "\u001b[32m[I 2023-05-07 17:38:54,085]\u001b[0m Trial 110 finished with value: 0.6414124100102845 and parameters: {'max_depth': 1, 'learning_rate': 0.02563179316350461, 'n_estimators': 496, 'min_child_weight': 3, 'gamma': 1.3791318558186966e-08, 'subsample': 0.15802675077234085, 'colsample_bytree': 0.38796967758821954, 'reg_alpha': 0.44542469752263264, 'reg_lambda': 4.893870755024799e-07}. Best is trial 74 with value: 0.6482687692835104.\u001b[0m\n",
      "\u001b[32m[I 2023-05-07 17:38:54,815]\u001b[0m Trial 111 finished with value: 0.6441549537195749 and parameters: {'max_depth': 1, 'learning_rate': 0.018786912055875737, 'n_estimators': 485, 'min_child_weight': 2, 'gamma': 2.3977032019421913e-08, 'subsample': 0.1997761940419029, 'colsample_bytree': 0.23276767314170518, 'reg_alpha': 0.1978160115886647, 'reg_lambda': 2.8961468012669796e-06}. Best is trial 74 with value: 0.6482687692835104.\u001b[0m\n",
      "\u001b[32m[I 2023-05-07 17:38:55,539]\u001b[0m Trial 112 finished with value: 0.6420980459376071 and parameters: {'max_depth': 1, 'learning_rate': 0.027834977767627778, 'n_estimators': 471, 'min_child_weight': 2, 'gamma': 1.0070822406346991e-08, 'subsample': 0.2161306615425513, 'colsample_bytree': 0.192313713128613, 'reg_alpha': 0.2792155694494241, 'reg_lambda': 5.257821495893371e-06}. Best is trial 74 with value: 0.6482687692835104.\u001b[0m\n",
      "\u001b[32m[I 2023-05-07 17:38:56,212]\u001b[0m Trial 113 finished with value: 0.6414124100102845 and parameters: {'max_depth': 1, 'learning_rate': 0.03846248130654419, 'n_estimators': 462, 'min_child_weight': 1, 'gamma': 1.6696527981153824e-08, 'subsample': 0.24274035548527886, 'colsample_bytree': 0.2627783208844589, 'reg_alpha': 0.10253918450913548, 'reg_lambda': 1.5471448900423938e-06}. Best is trial 74 with value: 0.6482687692835104.\u001b[0m\n"
     ]
    },
    {
     "name": "stderr",
     "output_type": "stream",
     "text": [
      "\u001b[32m[I 2023-05-07 17:38:57,078]\u001b[0m Trial 114 finished with value: 0.6420980459376071 and parameters: {'max_depth': 2, 'learning_rate': 0.016385802405676952, 'n_estimators': 451, 'min_child_weight': 2, 'gamma': 5.179101124129022e-08, 'subsample': 0.26207889141482954, 'colsample_bytree': 0.21517693110064676, 'reg_alpha': 0.676678481346854, 'reg_lambda': 2.046848240702865e-06}. Best is trial 74 with value: 0.6482687692835104.\u001b[0m\n",
      "\u001b[32m[I 2023-05-07 17:38:57,632]\u001b[0m Trial 115 finished with value: 0.643126499828591 and parameters: {'max_depth': 1, 'learning_rate': 0.02363553783119236, 'n_estimators': 400, 'min_child_weight': 1, 'gamma': 1.96050937541588e-07, 'subsample': 0.1706921495810173, 'colsample_bytree': 0.15405325389463467, 'reg_alpha': 0.16832074411307085, 'reg_lambda': 1.02749247681727e-06}. Best is trial 74 with value: 0.6482687692835104.\u001b[0m\n",
      "\u001b[32m[I 2023-05-07 17:38:58,394]\u001b[0m Trial 116 finished with value: 0.6427836818649297 and parameters: {'max_depth': 1, 'learning_rate': 0.034368077923379724, 'n_estimators': 482, 'min_child_weight': 3, 'gamma': 3.14765729530112e-08, 'subsample': 0.36698584316869176, 'colsample_bytree': 0.24076549621335663, 'reg_alpha': 0.3606569764565616, 'reg_lambda': 2.619441547488117e-07}. Best is trial 74 with value: 0.6482687692835104.\u001b[0m\n",
      "\u001b[32m[I 2023-05-07 17:38:58,947]\u001b[0m Trial 117 finished with value: 0.6475831333561879 and parameters: {'max_depth': 1, 'learning_rate': 0.04221675132917282, 'n_estimators': 387, 'min_child_weight': 1, 'gamma': 7.875642724855496e-08, 'subsample': 0.22996006405355518, 'colsample_bytree': 0.2810155524780043, 'reg_alpha': 0.06545167758857773, 'reg_lambda': 7.069841939862101e-07}. Best is trial 74 with value: 0.6482687692835104.\u001b[0m\n",
      "\u001b[32m[I 2023-05-07 17:38:59,439]\u001b[0m Trial 118 finished with value: 0.6400411381556393 and parameters: {'max_depth': 1, 'learning_rate': 0.042809111858753704, 'n_estimators': 393, 'min_child_weight': 2, 'gamma': 3.5311565184060527e-07, 'subsample': 0.14330046460811993, 'colsample_bytree': 0.1680022569965926, 'reg_alpha': 0.03445076022594146, 'reg_lambda': 6.692772896346483e-07}. Best is trial 74 with value: 0.6482687692835104.\u001b[0m\n",
      "\u001b[32m[I 2023-05-07 17:38:59,973]\u001b[0m Trial 119 finished with value: 0.643126499828591 and parameters: {'max_depth': 1, 'learning_rate': 0.031637203109311396, 'n_estimators': 381, 'min_child_weight': 2, 'gamma': 8.70691199462638e-08, 'subsample': 0.2285104516055603, 'colsample_bytree': 0.3221538415895878, 'reg_alpha': 0.011376507748634867, 'reg_lambda': 2.0686178818875863e-07}. Best is trial 74 with value: 0.6482687692835104.\u001b[0m\n",
      "\u001b[32m[I 2023-05-07 17:39:00,588]\u001b[0m Trial 120 finished with value: 0.6468974974288653 and parameters: {'max_depth': 1, 'learning_rate': 0.044780860366622745, 'n_estimators': 418, 'min_child_weight': 1, 'gamma': 7.98983550224871e-07, 'subsample': 0.19093660604141405, 'colsample_bytree': 0.20359124350391772, 'reg_alpha': 0.07573319578375078, 'reg_lambda': 3.143015509924952e-07}. Best is trial 74 with value: 0.6482687692835104.\u001b[0m\n",
      "\u001b[32m[I 2023-05-07 17:39:01,175]\u001b[0m Trial 121 finished with value: 0.6468974974288653 and parameters: {'max_depth': 1, 'learning_rate': 0.04401755150805452, 'n_estimators': 408, 'min_child_weight': 1, 'gamma': 7.029953033167508e-07, 'subsample': 0.20250736084949753, 'colsample_bytree': 0.2023623730979917, 'reg_alpha': 0.02133277604434626, 'reg_lambda': 3.759965123330636e-07}. Best is trial 74 with value: 0.6482687692835104.\u001b[0m\n",
      "\u001b[32m[I 2023-05-07 17:39:01,778]\u001b[0m Trial 122 finished with value: 0.6455262255742201 and parameters: {'max_depth': 1, 'learning_rate': 0.04586960050850285, 'n_estimators': 420, 'min_child_weight': 1, 'gamma': 4.4746328952782644e-07, 'subsample': 0.1988008714614044, 'colsample_bytree': 0.2079966110566673, 'reg_alpha': 0.05464398094378008, 'reg_lambda': 4.1478589186216106e-07}. Best is trial 74 with value: 0.6482687692835104.\u001b[0m\n",
      "\u001b[32m[I 2023-05-07 17:39:03,759]\u001b[0m Trial 123 finished with value: 0.6050737058621872 and parameters: {'max_depth': 8, 'learning_rate': 0.05196681499559507, 'n_estimators': 414, 'min_child_weight': 1, 'gamma': 1.2133936203063191e-06, 'subsample': 0.16164630498026525, 'colsample_bytree': 0.19354255853162583, 'reg_alpha': 0.0697787427089646, 'reg_lambda': 5.491631620719335e-07}. Best is trial 74 with value: 0.6482687692835104.\u001b[0m\n",
      "\u001b[32m[I 2023-05-07 17:39:04,175]\u001b[0m Trial 124 finished with value: 0.643126499828591 and parameters: {'max_depth': 1, 'learning_rate': 0.04085659919745339, 'n_estimators': 220, 'min_child_weight': 1, 'gamma': 1.9150339563853545e-06, 'subsample': 0.2036669149136865, 'colsample_bytree': 0.13989309129211627, 'reg_alpha': 0.020328729143593585, 'reg_lambda': 3.1710529285662314e-07}. Best is trial 74 with value: 0.6482687692835104.\u001b[0m\n",
      "\u001b[32m[I 2023-05-07 17:39:04,827]\u001b[0m Trial 125 finished with value: 0.6475831333561879 and parameters: {'max_depth': 1, 'learning_rate': 0.03752059763390295, 'n_estimators': 389, 'min_child_weight': 1, 'gamma': 7.900463960654637e-07, 'subsample': 0.1864448762557235, 'colsample_bytree': 0.2374932948020642, 'reg_alpha': 0.02592600903214037, 'reg_lambda': 8.688254234760356e-07}. Best is trial 74 with value: 0.6482687692835104.\u001b[0m\n",
      "\u001b[32m[I 2023-05-07 17:39:05,380]\u001b[0m Trial 126 finished with value: 0.6424408639012684 and parameters: {'max_depth': 1, 'learning_rate': 0.05956790658652522, 'n_estimators': 353, 'min_child_weight': 1, 'gamma': 8.179543507129165e-07, 'subsample': 0.1690073740991459, 'colsample_bytree': 0.17437172470015816, 'reg_alpha': 0.027813014129635463, 'reg_lambda': 1.2030231940626032e-06}. Best is trial 74 with value: 0.6482687692835104.\u001b[0m\n",
      "\u001b[32m[I 2023-05-07 17:39:05,907]\u001b[0m Trial 127 finished with value: 0.6386698663009942 and parameters: {'max_depth': 1, 'learning_rate': 0.037982676683146956, 'n_estimators': 376, 'min_child_weight': 1, 'gamma': 8.642107366814506e-07, 'subsample': 0.1229493112050795, 'colsample_bytree': 0.22409052292281126, 'reg_alpha': 0.016021708634126025, 'reg_lambda': 2.2420559155389564e-06}. Best is trial 74 with value: 0.6482687692835104.\u001b[0m\n",
      "\u001b[32m[I 2023-05-07 17:39:06,470]\u001b[0m Trial 128 finished with value: 0.6448405896468975 and parameters: {'max_depth': 1, 'learning_rate': 0.04684376009040909, 'n_estimators': 386, 'min_child_weight': 1, 'gamma': 6.297437579575507e-07, 'subsample': 0.17430837536883934, 'colsample_bytree': 0.19850985899215448, 'reg_alpha': 0.03861577745473245, 'reg_lambda': 8.252691451127541e-07}. Best is trial 74 with value: 0.6482687692835104.\u001b[0m\n",
      "\u001b[32m[I 2023-05-07 17:39:06,997]\u001b[0m Trial 129 finished with value: 0.6403839561193007 and parameters: {'max_depth': 1, 'learning_rate': 0.056716330589217066, 'n_estimators': 371, 'min_child_weight': 1, 'gamma': 4.974812072106489e-07, 'subsample': 0.13299306359317767, 'colsample_bytree': 0.2585901106155308, 'reg_alpha': 0.006641152976277819, 'reg_lambda': 1.3843272581329852e-06}. Best is trial 74 with value: 0.6482687692835104.\u001b[0m\n",
      "\u001b[32m[I 2023-05-07 17:39:07,623]\u001b[0m Trial 130 finished with value: 0.6441549537195749 and parameters: {'max_depth': 2, 'learning_rate': 0.02995613161675074, 'n_estimators': 338, 'min_child_weight': 1, 'gamma': 2.4582235787351404e-07, 'subsample': 0.18138764853849923, 'colsample_bytree': 0.15098902476550036, 'reg_alpha': 0.10090183406945598, 'reg_lambda': 7.293844414235017e-07}. Best is trial 74 with value: 0.6482687692835104.\u001b[0m\n",
      "\u001b[32m[I 2023-05-07 17:39:08,209]\u001b[0m Trial 131 finished with value: 0.6458690435378814 and parameters: {'max_depth': 1, 'learning_rate': 0.043675816301907026, 'n_estimators': 403, 'min_child_weight': 1, 'gamma': 1.561572084613617e-07, 'subsample': 0.23778092073414528, 'colsample_bytree': 0.23180586038765133, 'reg_alpha': 0.060842541937361445, 'reg_lambda': 4.071523256939101e-07}. Best is trial 74 with value: 0.6482687692835104.\u001b[0m\n",
      "\u001b[32m[I 2023-05-07 17:39:08,799]\u001b[0m Trial 132 finished with value: 0.6462118615015426 and parameters: {'max_depth': 1, 'learning_rate': 0.043258590861120216, 'n_estimators': 407, 'min_child_weight': 1, 'gamma': 1.607667197450964e-07, 'subsample': 0.2379589982413929, 'colsample_bytree': 0.23125131799163468, 'reg_alpha': 0.05613451720840808, 'reg_lambda': 3.7589387404504583e-07}. Best is trial 74 with value: 0.6482687692835104.\u001b[0m\n"
     ]
    },
    {
     "name": "stderr",
     "output_type": "stream",
     "text": [
      "\u001b[32m[I 2023-05-07 17:39:09,363]\u001b[0m Trial 133 finished with value: 0.6455262255742201 and parameters: {'max_depth': 1, 'learning_rate': 0.04323845994866157, 'n_estimators': 395, 'min_child_weight': 1, 'gamma': 1.4545016165247665e-07, 'subsample': 0.23531238574218544, 'colsample_bytree': 0.2264921422915485, 'reg_alpha': 0.02153295721928946, 'reg_lambda': 5.252090493893801e-07}. Best is trial 74 with value: 0.6482687692835104.\u001b[0m\n",
      "\u001b[32m[I 2023-05-07 17:39:09,940]\u001b[0m Trial 134 finished with value: 0.6434693177922524 and parameters: {'max_depth': 1, 'learning_rate': 0.05258830850307805, 'n_estimators': 409, 'min_child_weight': 1, 'gamma': 3.252737738072999e-07, 'subsample': 0.2105472118535076, 'colsample_bytree': 0.3024369597179852, 'reg_alpha': 0.07896747418785612, 'reg_lambda': 3.0201372752600186e-07}. Best is trial 74 with value: 0.6482687692835104.\u001b[0m\n",
      "\u001b[32m[I 2023-05-07 17:39:10,432]\u001b[0m Trial 135 finished with value: 0.6400411381556393 and parameters: {'max_depth': 1, 'learning_rate': 0.0674235964363705, 'n_estimators': 362, 'min_child_weight': 1, 'gamma': 2.5904272827785443e-06, 'subsample': 0.18904082703197775, 'colsample_bytree': 0.2785194791413569, 'reg_alpha': 0.05463367590179353, 'reg_lambda': 4.098696175629803e-07}. Best is trial 74 with value: 0.6482687692835104.\u001b[0m\n",
      "\u001b[32m[I 2023-05-07 17:39:11,000]\u001b[0m Trial 136 finished with value: 0.6444977716832362 and parameters: {'max_depth': 1, 'learning_rate': 0.04895039030618305, 'n_estimators': 422, 'min_child_weight': 1, 'gamma': 3.4376260825103403e-07, 'subsample': 0.24128901490326804, 'colsample_bytree': 0.2098192665984502, 'reg_alpha': 0.11593546199066075, 'reg_lambda': 9.324309056991587e-08}. Best is trial 74 with value: 0.6482687692835104.\u001b[0m\n",
      "\u001b[32m[I 2023-05-07 17:39:11,524]\u001b[0m Trial 137 finished with value: 0.6455262255742201 and parameters: {'max_depth': 1, 'learning_rate': 0.037069635823216214, 'n_estimators': 388, 'min_child_weight': 1, 'gamma': 1.727781549442562e-07, 'subsample': 0.223223324871766, 'colsample_bytree': 0.23975046263464908, 'reg_alpha': 0.01119549093538903, 'reg_lambda': 2.1151332600248672e-07}. Best is trial 74 with value: 0.6482687692835104.\u001b[0m\n",
      "\u001b[32m[I 2023-05-07 17:39:12,128]\u001b[0m Trial 138 finished with value: 0.6424408639012684 and parameters: {'max_depth': 1, 'learning_rate': 0.042037940094981296, 'n_estimators': 434, 'min_child_weight': 1, 'gamma': 9.323063138135086e-07, 'subsample': 0.2962134531245574, 'colsample_bytree': 0.2583578449526566, 'reg_alpha': 0.02701602769373646, 'reg_lambda': 9.78904660403431e-07}. Best is trial 74 with value: 0.6482687692835104.\u001b[0m\n",
      "\u001b[32m[I 2023-05-07 17:39:12,806]\u001b[0m Trial 139 finished with value: 0.6355845046280425 and parameters: {'max_depth': 5, 'learning_rate': 0.03902125080769068, 'n_estimators': 251, 'min_child_weight': 1, 'gamma': 6.606892270585815e-07, 'subsample': 0.1487726269064635, 'colsample_bytree': 0.18106105181429302, 'reg_alpha': 0.06917531662538134, 'reg_lambda': 3.764700925011107e-07}. Best is trial 74 with value: 0.6482687692835104.\u001b[0m\n",
      "\u001b[32m[I 2023-05-07 17:39:13,556]\u001b[0m Trial 140 finished with value: 0.6369557764826876 and parameters: {'max_depth': 2, 'learning_rate': 0.04836981027425476, 'n_estimators': 406, 'min_child_weight': 1, 'gamma': 2.2002511018580826e-07, 'subsample': 0.3206286201912935, 'colsample_bytree': 0.28721802644273015, 'reg_alpha': 0.04369410381928008, 'reg_lambda': 5.816894111391758e-07}. Best is trial 74 with value: 0.6482687692835104.\u001b[0m\n",
      "\u001b[32m[I 2023-05-07 17:39:14,082]\u001b[0m Trial 141 finished with value: 0.6472403153925266 and parameters: {'max_depth': 1, 'learning_rate': 0.032263678908755145, 'n_estimators': 401, 'min_child_weight': 1, 'gamma': 1.303412272208805e-07, 'subsample': 0.18940967207996323, 'colsample_bytree': 0.20463815114162234, 'reg_alpha': 0.034615290604581295, 'reg_lambda': 1.5491873636078083e-06}. Best is trial 74 with value: 0.6482687692835104.\u001b[0m\n",
      "\u001b[32m[I 2023-05-07 17:39:14,642]\u001b[0m Trial 142 finished with value: 0.6417552279739458 and parameters: {'max_depth': 1, 'learning_rate': 0.027822046099052856, 'n_estimators': 415, 'min_child_weight': 1, 'gamma': 9.879325052545813e-08, 'subsample': 0.19197036366202616, 'colsample_bytree': 0.22192645504200223, 'reg_alpha': 0.033510242469103585, 'reg_lambda': 4.1032370868239505e-06}. Best is trial 74 with value: 0.6482687692835104.\u001b[0m\n",
      "\u001b[32m[I 2023-05-07 17:39:15,224]\u001b[0m Trial 143 finished with value: 0.6451834076105588 and parameters: {'max_depth': 1, 'learning_rate': 0.03583549792584518, 'n_estimators': 389, 'min_child_weight': 1, 'gamma': 1.4183874443632454e-07, 'subsample': 0.25009601954527716, 'colsample_bytree': 0.20223656665099476, 'reg_alpha': 0.015478989550754389, 'reg_lambda': 2.253045598953267e-06}. Best is trial 74 with value: 0.6482687692835104.\u001b[0m\n",
      "\u001b[32m[I 2023-05-07 17:39:15,779]\u001b[0m Trial 144 finished with value: 0.6503256770654783 and parameters: {'max_depth': 1, 'learning_rate': 0.04513951741953903, 'n_estimators': 399, 'min_child_weight': 1, 'gamma': 4.930698975563402e-07, 'subsample': 0.21100530718862612, 'colsample_bytree': 0.24915342961737086, 'reg_alpha': 0.11146991406155919, 'reg_lambda': 8.150941792107757e-07}. Best is trial 144 with value: 0.6503256770654783.\u001b[0m\n",
      "\u001b[32m[I 2023-05-07 17:39:16,267]\u001b[0m Trial 145 finished with value: 0.6414124100102845 and parameters: {'max_depth': 1, 'learning_rate': 0.03135480254856049, 'n_estimators': 379, 'min_child_weight': 1, 'gamma': 1.4612436833156047e-06, 'subsample': 0.200094220616126, 'colsample_bytree': 0.16850015246358552, 'reg_alpha': 0.12028369991034393, 'reg_lambda': 6.9899712168235885e-06}. Best is trial 144 with value: 0.6503256770654783.\u001b[0m\n",
      "\u001b[32m[I 2023-05-07 17:39:16,795]\u001b[0m Trial 146 finished with value: 0.6417552279739458 and parameters: {'max_depth': 1, 'learning_rate': 0.029998543605701332, 'n_estimators': 424, 'min_child_weight': 2, 'gamma': 5.008831887640727e-07, 'subsample': 0.16389164435936265, 'colsample_bytree': 0.2479926929898638, 'reg_alpha': 0.0026310255276542345, 'reg_lambda': 9.94346797429384e-07}. Best is trial 144 with value: 0.6503256770654783.\u001b[0m\n",
      "\u001b[32m[I 2023-05-07 17:39:17,291]\u001b[0m Trial 147 finished with value: 0.6427836818649297 and parameters: {'max_depth': 1, 'learning_rate': 0.04014101854103881, 'n_estimators': 397, 'min_child_weight': 1, 'gamma': 3.108285194244605e-07, 'subsample': 0.13925862993701202, 'colsample_bytree': 0.3350123902447132, 'reg_alpha': 0.1468983054281401, 'reg_lambda': 1.7042713279411821e-06}. Best is trial 144 with value: 0.6503256770654783.\u001b[0m\n",
      "\u001b[32m[I 2023-05-07 17:39:17,809]\u001b[0m Trial 148 finished with value: 0.6434693177922524 and parameters: {'max_depth': 1, 'learning_rate': 0.026786155576099452, 'n_estimators': 416, 'min_child_weight': 1, 'gamma': 1.0322715727803878e-06, 'subsample': 0.18058615805959047, 'colsample_bytree': 0.18992253454803076, 'reg_alpha': 0.08067611049413098, 'reg_lambda': 6.88465957368226e-07}. Best is trial 144 with value: 0.6503256770654783.\u001b[0m\n",
      "\u001b[32m[I 2023-05-07 17:39:18,290]\u001b[0m Trial 149 finished with value: 0.6427836818649297 and parameters: {'max_depth': 1, 'learning_rate': 0.032982229924598885, 'n_estimators': 367, 'min_child_weight': 2, 'gamma': 7.258441960205202e-08, 'subsample': 0.21461169144911837, 'colsample_bytree': 0.2643804150357632, 'reg_alpha': 0.022186902184285227, 'reg_lambda': 2.394829968316526e-07}. Best is trial 144 with value: 0.6503256770654783.\u001b[0m\n"
     ]
    },
    {
     "name": "stdout",
     "output_type": "stream",
     "text": [
      "Number of finished trials: 150\n",
      "Best trial:\n",
      "  Value: 0.6503256770654783\n",
      "  Params: \n",
      "    max_depth: 1\n",
      "    learning_rate: 0.04513951741953903\n",
      "    n_estimators: 399\n",
      "    min_child_weight: 1\n",
      "    gamma: 4.930698975563402e-07\n",
      "    subsample: 0.21100530718862612\n",
      "    colsample_bytree: 0.24915342961737086\n",
      "    reg_alpha: 0.11146991406155919\n",
      "    reg_lambda: 8.150941792107757e-07\n"
     ]
    }
   ],
   "source": [
    "study = optuna.create_study(direction='maximize')\n",
    "study.optimize(objective, n_trials=150)\n",
    "print('Number of finished trials: {}'.format(len(study.trials)))\n",
    "print('Best trial:')\n",
    "trial = study.best_trial\n",
    "\n",
    "print('  Value: {}'.format(trial.value))\n",
    "print('  Params: ')\n",
    "\n",
    "for key, value in trial.params.items():\n",
    "    print('    {}: {}'.format(key, value))\n"
   ]
  },
  {
   "cell_type": "code",
   "execution_count": 15,
   "id": "3d5454df-6814-4185-a2ee-e56adc912e96",
   "metadata": {
    "tags": []
   },
   "outputs": [
    {
     "name": "stdout",
     "output_type": "stream",
     "text": [
      "Accuracy on test data after tuning: 65.03%\n",
      "              precision    recall  f1-score   support\n",
      "\n",
      "           0       0.64      0.68      0.66      1452\n",
      "           1       0.66      0.62      0.64      1465\n",
      "\n",
      "    accuracy                           0.65      2917\n",
      "   macro avg       0.65      0.65      0.65      2917\n",
      "weighted avg       0.65      0.65      0.65      2917\n",
      "\n"
     ]
    }
   ],
   "source": [
    "params = trial.params\n",
    "model = XGBClassifier(**params)\n",
    "model.fit(features_train, training_label)\n",
    "y_pred = model.predict(features_test)\n",
    "accuracy = accuracy_score(testing_label, y_pred)\n",
    "print(\"Accuracy on test data after tuning: %.2f%%\" % (accuracy * 100.0))\n",
    "print(classification_report(testing_label, y_pred))"
   ]
  },
  {
   "cell_type": "code",
   "execution_count": 16,
   "id": "f0348a01-21ac-4c92-9f7f-30f674df7088",
   "metadata": {
    "tags": []
   },
   "outputs": [
    {
     "data": {
      "text/plain": [
       "'\\nHYPERTUNING RESULTS: Above we have the results and the best parameters after hypertuning our tree algorithm. It is is clear that our accuracy is multiple percent\\nlarger than the original value. Not only is this true, but it shows that our precision and recall are also pretty good for both player 1 winning (1) and player 2\\nwinning (0). Now we can use these parameters and hypertune with early stopping.\\n'"
      ]
     },
     "execution_count": 16,
     "metadata": {},
     "output_type": "execute_result"
    }
   ],
   "source": [
    "\"\"\"\n",
    "HYPERTUNING RESULTS: Above we have the results and the best parameters after hypertuning our tree algorithm. It is is clear that our accuracy is multiple percent\n",
    "larger than the original value. Not only is this true, but it shows that our precision and recall are also pretty good for both player 1 winning (1) and player 2\n",
    "winning (0). Now we can use these parameters and hypertune with early stopping.\n",
    "\"\"\""
   ]
  },
  {
   "cell_type": "code",
   "execution_count": 17,
   "id": "5a9e949a-e0b5-4c6f-86d8-39abc5142f1a",
   "metadata": {
    "tags": []
   },
   "outputs": [
    {
     "name": "stdout",
     "output_type": "stream",
     "text": [
      "[0]\tvalidation_0-logloss:0.69188\tvalidation_1-logloss:0.69192\n",
      "[1]\tvalidation_0-logloss:0.69049\tvalidation_1-logloss:0.69053\n",
      "[2]\tvalidation_0-logloss:0.69027\tvalidation_1-logloss:0.69031\n",
      "[3]\tvalidation_0-logloss:0.68871\tvalidation_1-logloss:0.68890\n",
      "[4]\tvalidation_0-logloss:0.68692\tvalidation_1-logloss:0.68752\n",
      "[5]\tvalidation_0-logloss:0.68590\tvalidation_1-logloss:0.68654\n",
      "[6]\tvalidation_0-logloss:0.68452\tvalidation_1-logloss:0.68510\n",
      "[7]\tvalidation_0-logloss:0.68332\tvalidation_1-logloss:0.68382\n",
      "[8]\tvalidation_0-logloss:0.68317\tvalidation_1-logloss:0.68362\n",
      "[9]\tvalidation_0-logloss:0.68195\tvalidation_1-logloss:0.68233\n",
      "[10]\tvalidation_0-logloss:0.68050\tvalidation_1-logloss:0.68105\n",
      "[11]\tvalidation_0-logloss:0.67983\tvalidation_1-logloss:0.68034\n",
      "[12]\tvalidation_0-logloss:0.67919\tvalidation_1-logloss:0.67972\n",
      "[13]\tvalidation_0-logloss:0.67807\tvalidation_1-logloss:0.67852\n",
      "[14]\tvalidation_0-logloss:0.67804\tvalidation_1-logloss:0.67852\n",
      "[15]\tvalidation_0-logloss:0.67678\tvalidation_1-logloss:0.67748\n",
      "[16]\tvalidation_0-logloss:0.67633\tvalidation_1-logloss:0.67704\n",
      "[17]\tvalidation_0-logloss:0.67523\tvalidation_1-logloss:0.67618\n",
      "[18]\tvalidation_0-logloss:0.67413\tvalidation_1-logloss:0.67509\n",
      "[19]\tvalidation_0-logloss:0.67333\tvalidation_1-logloss:0.67424\n",
      "[20]\tvalidation_0-logloss:0.67323\tvalidation_1-logloss:0.67410\n",
      "[21]\tvalidation_0-logloss:0.67215\tvalidation_1-logloss:0.67332\n",
      "[22]\tvalidation_0-logloss:0.67134\tvalidation_1-logloss:0.67237\n",
      "[23]\tvalidation_0-logloss:0.67040\tvalidation_1-logloss:0.67165\n",
      "[24]\tvalidation_0-logloss:0.66955\tvalidation_1-logloss:0.67100\n",
      "[25]\tvalidation_0-logloss:0.66952\tvalidation_1-logloss:0.67096\n",
      "[26]\tvalidation_0-logloss:0.66854\tvalidation_1-logloss:0.66992\n",
      "[27]\tvalidation_0-logloss:0.66845\tvalidation_1-logloss:0.66978\n",
      "[28]\tvalidation_0-logloss:0.66759\tvalidation_1-logloss:0.66890\n",
      "[29]\tvalidation_0-logloss:0.66666\tvalidation_1-logloss:0.66814\n",
      "[30]\tvalidation_0-logloss:0.66586\tvalidation_1-logloss:0.66746\n",
      "[31]\tvalidation_0-logloss:0.66498\tvalidation_1-logloss:0.66649\n",
      "[32]\tvalidation_0-logloss:0.66435\tvalidation_1-logloss:0.66601\n",
      "[33]\tvalidation_0-logloss:0.66425\tvalidation_1-logloss:0.66587\n",
      "[34]\tvalidation_0-logloss:0.66358\tvalidation_1-logloss:0.66535\n",
      "[35]\tvalidation_0-logloss:0.66285\tvalidation_1-logloss:0.66459\n",
      "[36]\tvalidation_0-logloss:0.66280\tvalidation_1-logloss:0.66455\n",
      "[37]\tvalidation_0-logloss:0.66272\tvalidation_1-logloss:0.66449\n",
      "[38]\tvalidation_0-logloss:0.66204\tvalidation_1-logloss:0.66373\n",
      "[39]\tvalidation_0-logloss:0.66134\tvalidation_1-logloss:0.66311\n",
      "[40]\tvalidation_0-logloss:0.66124\tvalidation_1-logloss:0.66289\n",
      "[41]\tvalidation_0-logloss:0.66056\tvalidation_1-logloss:0.66236\n",
      "[42]\tvalidation_0-logloss:0.65991\tvalidation_1-logloss:0.66179\n",
      "[43]\tvalidation_0-logloss:0.65966\tvalidation_1-logloss:0.66145\n",
      "[44]\tvalidation_0-logloss:0.65910\tvalidation_1-logloss:0.66107\n",
      "[45]\tvalidation_0-logloss:0.65857\tvalidation_1-logloss:0.66068\n",
      "[46]\tvalidation_0-logloss:0.65853\tvalidation_1-logloss:0.66068\n",
      "[47]\tvalidation_0-logloss:0.65796\tvalidation_1-logloss:0.66016\n",
      "[48]\tvalidation_0-logloss:0.65742\tvalidation_1-logloss:0.65971\n",
      "[49]\tvalidation_0-logloss:0.65665\tvalidation_1-logloss:0.65935\n",
      "[50]\tvalidation_0-logloss:0.65622\tvalidation_1-logloss:0.65894\n",
      "[51]\tvalidation_0-logloss:0.65565\tvalidation_1-logloss:0.65849\n",
      "[52]\tvalidation_0-logloss:0.65503\tvalidation_1-logloss:0.65787\n",
      "[53]\tvalidation_0-logloss:0.65440\tvalidation_1-logloss:0.65719\n",
      "[54]\tvalidation_0-logloss:0.65378\tvalidation_1-logloss:0.65649\n",
      "[55]\tvalidation_0-logloss:0.65336\tvalidation_1-logloss:0.65614\n",
      "[56]\tvalidation_0-logloss:0.65283\tvalidation_1-logloss:0.65562\n",
      "[57]\tvalidation_0-logloss:0.65233\tvalidation_1-logloss:0.65502\n",
      "[58]\tvalidation_0-logloss:0.65186\tvalidation_1-logloss:0.65446\n",
      "[59]\tvalidation_0-logloss:0.65155\tvalidation_1-logloss:0.65413\n",
      "[60]\tvalidation_0-logloss:0.65110\tvalidation_1-logloss:0.65378\n",
      "[61]\tvalidation_0-logloss:0.65065\tvalidation_1-logloss:0.65342\n",
      "[62]\tvalidation_0-logloss:0.65032\tvalidation_1-logloss:0.65308\n",
      "[63]\tvalidation_0-logloss:0.64984\tvalidation_1-logloss:0.65287\n",
      "[64]\tvalidation_0-logloss:0.64946\tvalidation_1-logloss:0.65272\n",
      "[65]\tvalidation_0-logloss:0.64944\tvalidation_1-logloss:0.65283\n",
      "[66]\tvalidation_0-logloss:0.64900\tvalidation_1-logloss:0.65240\n",
      "[67]\tvalidation_0-logloss:0.64861\tvalidation_1-logloss:0.65194\n",
      "[68]\tvalidation_0-logloss:0.64817\tvalidation_1-logloss:0.65162\n",
      "[69]\tvalidation_0-logloss:0.64776\tvalidation_1-logloss:0.65130\n",
      "[70]\tvalidation_0-logloss:0.64768\tvalidation_1-logloss:0.65130\n",
      "[71]\tvalidation_0-logloss:0.64723\tvalidation_1-logloss:0.65076\n",
      "[72]\tvalidation_0-logloss:0.64685\tvalidation_1-logloss:0.65029\n",
      "[73]\tvalidation_0-logloss:0.64654\tvalidation_1-logloss:0.64994\n",
      "[74]\tvalidation_0-logloss:0.64639\tvalidation_1-logloss:0.64972\n",
      "[75]\tvalidation_0-logloss:0.64629\tvalidation_1-logloss:0.64960\n",
      "[76]\tvalidation_0-logloss:0.64590\tvalidation_1-logloss:0.64930\n",
      "[77]\tvalidation_0-logloss:0.64585\tvalidation_1-logloss:0.64919\n",
      "[78]\tvalidation_0-logloss:0.64578\tvalidation_1-logloss:0.64909\n",
      "[79]\tvalidation_0-logloss:0.64565\tvalidation_1-logloss:0.64902\n",
      "[80]\tvalidation_0-logloss:0.64533\tvalidation_1-logloss:0.64886\n",
      "[81]\tvalidation_0-logloss:0.64528\tvalidation_1-logloss:0.64883\n",
      "[82]\tvalidation_0-logloss:0.64489\tvalidation_1-logloss:0.64844\n",
      "[83]\tvalidation_0-logloss:0.64451\tvalidation_1-logloss:0.64805\n",
      "[84]\tvalidation_0-logloss:0.64417\tvalidation_1-logloss:0.64782\n",
      "[85]\tvalidation_0-logloss:0.64377\tvalidation_1-logloss:0.64757\n",
      "[86]\tvalidation_0-logloss:0.64346\tvalidation_1-logloss:0.64740\n",
      "[87]\tvalidation_0-logloss:0.64304\tvalidation_1-logloss:0.64678\n",
      "[88]\tvalidation_0-logloss:0.64267\tvalidation_1-logloss:0.64629\n",
      "[89]\tvalidation_0-logloss:0.64239\tvalidation_1-logloss:0.64592\n",
      "[90]\tvalidation_0-logloss:0.64213\tvalidation_1-logloss:0.64557\n",
      "[91]\tvalidation_0-logloss:0.64183\tvalidation_1-logloss:0.64527\n",
      "[92]\tvalidation_0-logloss:0.64177\tvalidation_1-logloss:0.64515\n",
      "[93]\tvalidation_0-logloss:0.64152\tvalidation_1-logloss:0.64501\n",
      "[94]\tvalidation_0-logloss:0.64137\tvalidation_1-logloss:0.64495\n",
      "[95]\tvalidation_0-logloss:0.64111\tvalidation_1-logloss:0.64477\n",
      "[96]\tvalidation_0-logloss:0.64080\tvalidation_1-logloss:0.64436\n",
      "[97]\tvalidation_0-logloss:0.64072\tvalidation_1-logloss:0.64434\n",
      "[98]\tvalidation_0-logloss:0.64050\tvalidation_1-logloss:0.64413\n",
      "[99]\tvalidation_0-logloss:0.64035\tvalidation_1-logloss:0.64397\n",
      "[100]\tvalidation_0-logloss:0.64000\tvalidation_1-logloss:0.64378\n",
      "[101]\tvalidation_0-logloss:0.63981\tvalidation_1-logloss:0.64356\n",
      "[102]\tvalidation_0-logloss:0.63975\tvalidation_1-logloss:0.64350\n",
      "[103]\tvalidation_0-logloss:0.63946\tvalidation_1-logloss:0.64314\n",
      "[104]\tvalidation_0-logloss:0.63946\tvalidation_1-logloss:0.64328\n",
      "[105]\tvalidation_0-logloss:0.63940\tvalidation_1-logloss:0.64329\n",
      "[106]\tvalidation_0-logloss:0.63914\tvalidation_1-logloss:0.64308\n",
      "[107]\tvalidation_0-logloss:0.63889\tvalidation_1-logloss:0.64297\n",
      "[108]\tvalidation_0-logloss:0.63874\tvalidation_1-logloss:0.64292\n",
      "[109]\tvalidation_0-logloss:0.63859\tvalidation_1-logloss:0.64286\n",
      "[110]\tvalidation_0-logloss:0.63831\tvalidation_1-logloss:0.64266\n",
      "[111]\tvalidation_0-logloss:0.63827\tvalidation_1-logloss:0.64258\n",
      "[112]\tvalidation_0-logloss:0.63808\tvalidation_1-logloss:0.64233\n",
      "[113]\tvalidation_0-logloss:0.63782\tvalidation_1-logloss:0.64187\n",
      "[114]\tvalidation_0-logloss:0.63769\tvalidation_1-logloss:0.64179\n",
      "[115]\tvalidation_0-logloss:0.63744\tvalidation_1-logloss:0.64167\n",
      "[116]\tvalidation_0-logloss:0.63736\tvalidation_1-logloss:0.64158\n",
      "[117]\tvalidation_0-logloss:0.63732\tvalidation_1-logloss:0.64152\n",
      "[118]\tvalidation_0-logloss:0.63710\tvalidation_1-logloss:0.64119\n",
      "[119]\tvalidation_0-logloss:0.63690\tvalidation_1-logloss:0.64097\n",
      "[120]\tvalidation_0-logloss:0.63687\tvalidation_1-logloss:0.64094\n",
      "[121]\tvalidation_0-logloss:0.63679\tvalidation_1-logloss:0.64085\n",
      "[122]\tvalidation_0-logloss:0.63676\tvalidation_1-logloss:0.64074\n",
      "[123]\tvalidation_0-logloss:0.63650\tvalidation_1-logloss:0.64064\n",
      "[124]\tvalidation_0-logloss:0.63623\tvalidation_1-logloss:0.64033\n",
      "[125]\tvalidation_0-logloss:0.63620\tvalidation_1-logloss:0.64022\n",
      "[126]\tvalidation_0-logloss:0.63614\tvalidation_1-logloss:0.64022\n",
      "[127]\tvalidation_0-logloss:0.63595\tvalidation_1-logloss:0.64002\n",
      "[128]\tvalidation_0-logloss:0.63582\tvalidation_1-logloss:0.63988\n",
      "[129]\tvalidation_0-logloss:0.63577\tvalidation_1-logloss:0.63985\n"
     ]
    },
    {
     "name": "stdout",
     "output_type": "stream",
     "text": [
      "[130]\tvalidation_0-logloss:0.63556\tvalidation_1-logloss:0.63962\n",
      "[131]\tvalidation_0-logloss:0.63526\tvalidation_1-logloss:0.63944\n",
      "[132]\tvalidation_0-logloss:0.63512\tvalidation_1-logloss:0.63924\n",
      "[133]\tvalidation_0-logloss:0.63500\tvalidation_1-logloss:0.63911\n",
      "[134]\tvalidation_0-logloss:0.63496\tvalidation_1-logloss:0.63902\n",
      "[135]\tvalidation_0-logloss:0.63472\tvalidation_1-logloss:0.63884\n",
      "[136]\tvalidation_0-logloss:0.63459\tvalidation_1-logloss:0.63867\n",
      "[137]\tvalidation_0-logloss:0.63434\tvalidation_1-logloss:0.63849\n",
      "[138]\tvalidation_0-logloss:0.63433\tvalidation_1-logloss:0.63853\n",
      "[139]\tvalidation_0-logloss:0.63418\tvalidation_1-logloss:0.63848\n",
      "[140]\tvalidation_0-logloss:0.63405\tvalidation_1-logloss:0.63845\n",
      "[141]\tvalidation_0-logloss:0.63401\tvalidation_1-logloss:0.63839\n",
      "[142]\tvalidation_0-logloss:0.63382\tvalidation_1-logloss:0.63822\n",
      "[143]\tvalidation_0-logloss:0.63356\tvalidation_1-logloss:0.63810\n",
      "[144]\tvalidation_0-logloss:0.63339\tvalidation_1-logloss:0.63800\n",
      "[145]\tvalidation_0-logloss:0.63324\tvalidation_1-logloss:0.63783\n",
      "[146]\tvalidation_0-logloss:0.63310\tvalidation_1-logloss:0.63758\n",
      "[147]\tvalidation_0-logloss:0.63292\tvalidation_1-logloss:0.63733\n",
      "[148]\tvalidation_0-logloss:0.63286\tvalidation_1-logloss:0.63726\n",
      "[149]\tvalidation_0-logloss:0.63280\tvalidation_1-logloss:0.63723\n",
      "[150]\tvalidation_0-logloss:0.63266\tvalidation_1-logloss:0.63704\n",
      "[151]\tvalidation_0-logloss:0.63261\tvalidation_1-logloss:0.63706\n",
      "[152]\tvalidation_0-logloss:0.63244\tvalidation_1-logloss:0.63685\n",
      "[153]\tvalidation_0-logloss:0.63227\tvalidation_1-logloss:0.63683\n",
      "[154]\tvalidation_0-logloss:0.63219\tvalidation_1-logloss:0.63678\n",
      "[155]\tvalidation_0-logloss:0.63216\tvalidation_1-logloss:0.63680\n",
      "[156]\tvalidation_0-logloss:0.63210\tvalidation_1-logloss:0.63680\n",
      "[157]\tvalidation_0-logloss:0.63199\tvalidation_1-logloss:0.63675\n",
      "[158]\tvalidation_0-logloss:0.63188\tvalidation_1-logloss:0.63662\n",
      "[159]\tvalidation_0-logloss:0.63167\tvalidation_1-logloss:0.63636\n",
      "[160]\tvalidation_0-logloss:0.63166\tvalidation_1-logloss:0.63637\n",
      "[161]\tvalidation_0-logloss:0.63155\tvalidation_1-logloss:0.63629\n",
      "[162]\tvalidation_0-logloss:0.63144\tvalidation_1-logloss:0.63618\n",
      "[163]\tvalidation_0-logloss:0.63128\tvalidation_1-logloss:0.63601\n",
      "[164]\tvalidation_0-logloss:0.63126\tvalidation_1-logloss:0.63597\n",
      "[165]\tvalidation_0-logloss:0.63124\tvalidation_1-logloss:0.63589\n",
      "[166]\tvalidation_0-logloss:0.63113\tvalidation_1-logloss:0.63575\n",
      "[167]\tvalidation_0-logloss:0.63095\tvalidation_1-logloss:0.63561\n",
      "[168]\tvalidation_0-logloss:0.63078\tvalidation_1-logloss:0.63546\n",
      "[169]\tvalidation_0-logloss:0.63075\tvalidation_1-logloss:0.63542\n",
      "[170]\tvalidation_0-logloss:0.63064\tvalidation_1-logloss:0.63521\n",
      "[171]\tvalidation_0-logloss:0.63060\tvalidation_1-logloss:0.63518\n",
      "[172]\tvalidation_0-logloss:0.63047\tvalidation_1-logloss:0.63501\n",
      "[173]\tvalidation_0-logloss:0.63035\tvalidation_1-logloss:0.63482\n",
      "[174]\tvalidation_0-logloss:0.63018\tvalidation_1-logloss:0.63479\n",
      "[175]\tvalidation_0-logloss:0.63006\tvalidation_1-logloss:0.63460\n",
      "[176]\tvalidation_0-logloss:0.62997\tvalidation_1-logloss:0.63447\n",
      "[177]\tvalidation_0-logloss:0.62993\tvalidation_1-logloss:0.63438\n",
      "[178]\tvalidation_0-logloss:0.62982\tvalidation_1-logloss:0.63435\n",
      "[179]\tvalidation_0-logloss:0.62975\tvalidation_1-logloss:0.63420\n",
      "[180]\tvalidation_0-logloss:0.62976\tvalidation_1-logloss:0.63424\n",
      "[181]\tvalidation_0-logloss:0.62964\tvalidation_1-logloss:0.63408\n",
      "[182]\tvalidation_0-logloss:0.62948\tvalidation_1-logloss:0.63389\n",
      "[183]\tvalidation_0-logloss:0.62941\tvalidation_1-logloss:0.63373\n",
      "[184]\tvalidation_0-logloss:0.62932\tvalidation_1-logloss:0.63361\n",
      "[185]\tvalidation_0-logloss:0.62919\tvalidation_1-logloss:0.63344\n",
      "[186]\tvalidation_0-logloss:0.62908\tvalidation_1-logloss:0.63326\n",
      "[187]\tvalidation_0-logloss:0.62898\tvalidation_1-logloss:0.63324\n",
      "[188]\tvalidation_0-logloss:0.62884\tvalidation_1-logloss:0.63311\n",
      "[189]\tvalidation_0-logloss:0.62878\tvalidation_1-logloss:0.63302\n",
      "[190]\tvalidation_0-logloss:0.62868\tvalidation_1-logloss:0.63297\n",
      "[191]\tvalidation_0-logloss:0.62850\tvalidation_1-logloss:0.63289\n",
      "[192]\tvalidation_0-logloss:0.62842\tvalidation_1-logloss:0.63276\n",
      "[193]\tvalidation_0-logloss:0.62841\tvalidation_1-logloss:0.63284\n",
      "[194]\tvalidation_0-logloss:0.62832\tvalidation_1-logloss:0.63281\n",
      "[195]\tvalidation_0-logloss:0.62822\tvalidation_1-logloss:0.63274\n",
      "[196]\tvalidation_0-logloss:0.62818\tvalidation_1-logloss:0.63277\n",
      "[197]\tvalidation_0-logloss:0.62813\tvalidation_1-logloss:0.63265\n",
      "[198]\tvalidation_0-logloss:0.62803\tvalidation_1-logloss:0.63261\n",
      "[199]\tvalidation_0-logloss:0.62793\tvalidation_1-logloss:0.63252\n",
      "[200]\tvalidation_0-logloss:0.62789\tvalidation_1-logloss:0.63249\n",
      "[201]\tvalidation_0-logloss:0.62784\tvalidation_1-logloss:0.63245\n",
      "[202]\tvalidation_0-logloss:0.62773\tvalidation_1-logloss:0.63234\n",
      "[203]\tvalidation_0-logloss:0.62766\tvalidation_1-logloss:0.63227\n",
      "[204]\tvalidation_0-logloss:0.62756\tvalidation_1-logloss:0.63221\n",
      "[205]\tvalidation_0-logloss:0.62748\tvalidation_1-logloss:0.63220\n",
      "[206]\tvalidation_0-logloss:0.62738\tvalidation_1-logloss:0.63220\n",
      "[207]\tvalidation_0-logloss:0.62732\tvalidation_1-logloss:0.63213\n",
      "[208]\tvalidation_0-logloss:0.62723\tvalidation_1-logloss:0.63206\n",
      "[209]\tvalidation_0-logloss:0.62716\tvalidation_1-logloss:0.63196\n",
      "[210]\tvalidation_0-logloss:0.62716\tvalidation_1-logloss:0.63263\n",
      "[211]\tvalidation_0-logloss:0.62706\tvalidation_1-logloss:0.63253\n",
      "[212]\tvalidation_0-logloss:0.62703\tvalidation_1-logloss:0.63248\n",
      "[213]\tvalidation_0-logloss:0.62694\tvalidation_1-logloss:0.63239\n",
      "[214]\tvalidation_0-logloss:0.62689\tvalidation_1-logloss:0.63232\n",
      "[215]\tvalidation_0-logloss:0.62688\tvalidation_1-logloss:0.63231\n",
      "[216]\tvalidation_0-logloss:0.62679\tvalidation_1-logloss:0.63220\n",
      "[217]\tvalidation_0-logloss:0.62668\tvalidation_1-logloss:0.63209\n",
      "[218]\tvalidation_0-logloss:0.62659\tvalidation_1-logloss:0.63208\n",
      "[219]\tvalidation_0-logloss:0.62656\tvalidation_1-logloss:0.63218\n",
      "[220]\tvalidation_0-logloss:0.62648\tvalidation_1-logloss:0.63223\n",
      "[221]\tvalidation_0-logloss:0.62645\tvalidation_1-logloss:0.63206\n",
      "[222]\tvalidation_0-logloss:0.62635\tvalidation_1-logloss:0.63204\n",
      "[223]\tvalidation_0-logloss:0.62627\tvalidation_1-logloss:0.63190\n",
      "[224]\tvalidation_0-logloss:0.62621\tvalidation_1-logloss:0.63182\n",
      "[225]\tvalidation_0-logloss:0.62616\tvalidation_1-logloss:0.63168\n",
      "[226]\tvalidation_0-logloss:0.62607\tvalidation_1-logloss:0.63170\n",
      "[227]\tvalidation_0-logloss:0.62606\tvalidation_1-logloss:0.63172\n",
      "[228]\tvalidation_0-logloss:0.62601\tvalidation_1-logloss:0.63167\n",
      "[229]\tvalidation_0-logloss:0.62595\tvalidation_1-logloss:0.63166\n",
      "[230]\tvalidation_0-logloss:0.62588\tvalidation_1-logloss:0.63158\n",
      "[231]\tvalidation_0-logloss:0.62581\tvalidation_1-logloss:0.63144\n",
      "[232]\tvalidation_0-logloss:0.62576\tvalidation_1-logloss:0.63134\n",
      "[233]\tvalidation_0-logloss:0.62572\tvalidation_1-logloss:0.63133\n",
      "[234]\tvalidation_0-logloss:0.62566\tvalidation_1-logloss:0.63123\n",
      "[235]\tvalidation_0-logloss:0.62560\tvalidation_1-logloss:0.63120\n",
      "[236]\tvalidation_0-logloss:0.62555\tvalidation_1-logloss:0.63113\n",
      "[237]\tvalidation_0-logloss:0.62548\tvalidation_1-logloss:0.63104\n",
      "[238]\tvalidation_0-logloss:0.62544\tvalidation_1-logloss:0.63081\n",
      "[239]\tvalidation_0-logloss:0.62532\tvalidation_1-logloss:0.63085\n",
      "[240]\tvalidation_0-logloss:0.62524\tvalidation_1-logloss:0.63077\n",
      "[241]\tvalidation_0-logloss:0.62523\tvalidation_1-logloss:0.63049\n",
      "[242]\tvalidation_0-logloss:0.62515\tvalidation_1-logloss:0.63053\n",
      "[243]\tvalidation_0-logloss:0.62512\tvalidation_1-logloss:0.63045\n",
      "[244]\tvalidation_0-logloss:0.62504\tvalidation_1-logloss:0.63045\n",
      "[245]\tvalidation_0-logloss:0.62502\tvalidation_1-logloss:0.63053\n",
      "[246]\tvalidation_0-logloss:0.62493\tvalidation_1-logloss:0.63056\n",
      "[247]\tvalidation_0-logloss:0.62492\tvalidation_1-logloss:0.63058\n",
      "[248]\tvalidation_0-logloss:0.62487\tvalidation_1-logloss:0.63050\n",
      "[249]\tvalidation_0-logloss:0.62475\tvalidation_1-logloss:0.63042\n",
      "[250]\tvalidation_0-logloss:0.62468\tvalidation_1-logloss:0.63033\n",
      "[251]\tvalidation_0-logloss:0.62461\tvalidation_1-logloss:0.63038\n",
      "[252]\tvalidation_0-logloss:0.62455\tvalidation_1-logloss:0.63029\n",
      "[253]\tvalidation_0-logloss:0.62454\tvalidation_1-logloss:0.63009\n",
      "[254]\tvalidation_0-logloss:0.62451\tvalidation_1-logloss:0.63000\n",
      "[255]\tvalidation_0-logloss:0.62449\tvalidation_1-logloss:0.62995\n",
      "[256]\tvalidation_0-logloss:0.62443\tvalidation_1-logloss:0.62983\n",
      "[257]\tvalidation_0-logloss:0.62438\tvalidation_1-logloss:0.62985\n",
      "[258]\tvalidation_0-logloss:0.62432\tvalidation_1-logloss:0.62978\n"
     ]
    },
    {
     "name": "stdout",
     "output_type": "stream",
     "text": [
      "[259]\tvalidation_0-logloss:0.62428\tvalidation_1-logloss:0.62978\n",
      "[260]\tvalidation_0-logloss:0.62425\tvalidation_1-logloss:0.62967\n",
      "[261]\tvalidation_0-logloss:0.62420\tvalidation_1-logloss:0.62971\n",
      "[262]\tvalidation_0-logloss:0.62414\tvalidation_1-logloss:0.62976\n",
      "[263]\tvalidation_0-logloss:0.62411\tvalidation_1-logloss:0.62973\n",
      "[264]\tvalidation_0-logloss:0.62409\tvalidation_1-logloss:0.62978\n",
      "[265]\tvalidation_0-logloss:0.62405\tvalidation_1-logloss:0.62977\n",
      "[266]\tvalidation_0-logloss:0.62401\tvalidation_1-logloss:0.62965\n",
      "[267]\tvalidation_0-logloss:0.62398\tvalidation_1-logloss:0.62959\n",
      "[268]\tvalidation_0-logloss:0.62393\tvalidation_1-logloss:0.62953\n",
      "[269]\tvalidation_0-logloss:0.62390\tvalidation_1-logloss:0.62943\n",
      "[270]\tvalidation_0-logloss:0.62384\tvalidation_1-logloss:0.62951\n",
      "[271]\tvalidation_0-logloss:0.62378\tvalidation_1-logloss:0.62947\n",
      "[272]\tvalidation_0-logloss:0.62374\tvalidation_1-logloss:0.62935\n",
      "[273]\tvalidation_0-logloss:0.62372\tvalidation_1-logloss:0.62928\n",
      "[274]\tvalidation_0-logloss:0.62369\tvalidation_1-logloss:0.62921\n",
      "[275]\tvalidation_0-logloss:0.62365\tvalidation_1-logloss:0.62913\n",
      "[276]\tvalidation_0-logloss:0.62360\tvalidation_1-logloss:0.62920\n",
      "[277]\tvalidation_0-logloss:0.62355\tvalidation_1-logloss:0.62921\n",
      "[278]\tvalidation_0-logloss:0.62351\tvalidation_1-logloss:0.62927\n",
      "[279]\tvalidation_0-logloss:0.62345\tvalidation_1-logloss:0.62924\n",
      "[280]\tvalidation_0-logloss:0.62343\tvalidation_1-logloss:0.62920\n",
      "[281]\tvalidation_0-logloss:0.62339\tvalidation_1-logloss:0.62921\n",
      "[282]\tvalidation_0-logloss:0.62334\tvalidation_1-logloss:0.62919\n",
      "[283]\tvalidation_0-logloss:0.62329\tvalidation_1-logloss:0.62921\n",
      "[284]\tvalidation_0-logloss:0.62325\tvalidation_1-logloss:0.62920\n",
      "[285]\tvalidation_0-logloss:0.62322\tvalidation_1-logloss:0.62912\n",
      "[286]\tvalidation_0-logloss:0.62319\tvalidation_1-logloss:0.62915\n",
      "[287]\tvalidation_0-logloss:0.62315\tvalidation_1-logloss:0.62916\n",
      "[288]\tvalidation_0-logloss:0.62311\tvalidation_1-logloss:0.62915\n",
      "[289]\tvalidation_0-logloss:0.62306\tvalidation_1-logloss:0.62917\n",
      "[290]\tvalidation_0-logloss:0.62304\tvalidation_1-logloss:0.62912\n",
      "[291]\tvalidation_0-logloss:0.62298\tvalidation_1-logloss:0.62904\n",
      "[292]\tvalidation_0-logloss:0.62292\tvalidation_1-logloss:0.62896\n",
      "[293]\tvalidation_0-logloss:0.62288\tvalidation_1-logloss:0.62870\n",
      "[294]\tvalidation_0-logloss:0.62285\tvalidation_1-logloss:0.62864\n",
      "[295]\tvalidation_0-logloss:0.62280\tvalidation_1-logloss:0.62866\n",
      "[296]\tvalidation_0-logloss:0.62277\tvalidation_1-logloss:0.62855\n",
      "[297]\tvalidation_0-logloss:0.62272\tvalidation_1-logloss:0.62861\n",
      "[298]\tvalidation_0-logloss:0.62270\tvalidation_1-logloss:0.62869\n",
      "[299]\tvalidation_0-logloss:0.62270\tvalidation_1-logloss:0.62874\n",
      "[300]\tvalidation_0-logloss:0.62267\tvalidation_1-logloss:0.62870\n",
      "[301]\tvalidation_0-logloss:0.62263\tvalidation_1-logloss:0.62862\n",
      "[302]\tvalidation_0-logloss:0.62262\tvalidation_1-logloss:0.62859\n",
      "[303]\tvalidation_0-logloss:0.62255\tvalidation_1-logloss:0.62849\n",
      "[304]\tvalidation_0-logloss:0.62251\tvalidation_1-logloss:0.62845\n",
      "[305]\tvalidation_0-logloss:0.62249\tvalidation_1-logloss:0.62848\n",
      "[306]\tvalidation_0-logloss:0.62247\tvalidation_1-logloss:0.62853\n",
      "[307]\tvalidation_0-logloss:0.62250\tvalidation_1-logloss:0.62848\n",
      "[308]\tvalidation_0-logloss:0.62247\tvalidation_1-logloss:0.62851\n",
      "[309]\tvalidation_0-logloss:0.62244\tvalidation_1-logloss:0.62863\n",
      "[310]\tvalidation_0-logloss:0.62244\tvalidation_1-logloss:0.62860\n",
      "[311]\tvalidation_0-logloss:0.62242\tvalidation_1-logloss:0.62859\n",
      "[312]\tvalidation_0-logloss:0.62239\tvalidation_1-logloss:0.62863\n",
      "[313]\tvalidation_0-logloss:0.62239\tvalidation_1-logloss:0.62865\n",
      "[314]\tvalidation_0-logloss:0.62235\tvalidation_1-logloss:0.62866\n",
      "[315]\tvalidation_0-logloss:0.62230\tvalidation_1-logloss:0.62866\n",
      "[316]\tvalidation_0-logloss:0.62230\tvalidation_1-logloss:0.62873\n",
      "[317]\tvalidation_0-logloss:0.62229\tvalidation_1-logloss:0.62870\n",
      "[318]\tvalidation_0-logloss:0.62225\tvalidation_1-logloss:0.62870\n",
      "[319]\tvalidation_0-logloss:0.62218\tvalidation_1-logloss:0.62867\n",
      "[320]\tvalidation_0-logloss:0.62215\tvalidation_1-logloss:0.62864\n",
      "[321]\tvalidation_0-logloss:0.62212\tvalidation_1-logloss:0.62849\n",
      "[322]\tvalidation_0-logloss:0.62208\tvalidation_1-logloss:0.62850\n",
      "[323]\tvalidation_0-logloss:0.62204\tvalidation_1-logloss:0.62836\n",
      "[324]\tvalidation_0-logloss:0.62198\tvalidation_1-logloss:0.62820\n",
      "[325]\tvalidation_0-logloss:0.62194\tvalidation_1-logloss:0.62812\n",
      "[326]\tvalidation_0-logloss:0.62192\tvalidation_1-logloss:0.62801\n",
      "[327]\tvalidation_0-logloss:0.62185\tvalidation_1-logloss:0.62797\n",
      "[328]\tvalidation_0-logloss:0.62180\tvalidation_1-logloss:0.62789\n",
      "[329]\tvalidation_0-logloss:0.62177\tvalidation_1-logloss:0.62777\n",
      "[330]\tvalidation_0-logloss:0.62176\tvalidation_1-logloss:0.62776\n",
      "[331]\tvalidation_0-logloss:0.62172\tvalidation_1-logloss:0.62784\n",
      "[332]\tvalidation_0-logloss:0.62169\tvalidation_1-logloss:0.62782\n",
      "[333]\tvalidation_0-logloss:0.62163\tvalidation_1-logloss:0.62772\n",
      "[334]\tvalidation_0-logloss:0.62160\tvalidation_1-logloss:0.62774\n",
      "[335]\tvalidation_0-logloss:0.62156\tvalidation_1-logloss:0.62765\n",
      "[336]\tvalidation_0-logloss:0.62156\tvalidation_1-logloss:0.62767\n",
      "[337]\tvalidation_0-logloss:0.62156\tvalidation_1-logloss:0.62765\n",
      "[338]\tvalidation_0-logloss:0.62153\tvalidation_1-logloss:0.62766\n",
      "[339]\tvalidation_0-logloss:0.62149\tvalidation_1-logloss:0.62763\n",
      "[340]\tvalidation_0-logloss:0.62146\tvalidation_1-logloss:0.62757\n",
      "[341]\tvalidation_0-logloss:0.62141\tvalidation_1-logloss:0.62751\n",
      "[342]\tvalidation_0-logloss:0.62140\tvalidation_1-logloss:0.62737\n",
      "[343]\tvalidation_0-logloss:0.62136\tvalidation_1-logloss:0.62740\n",
      "[344]\tvalidation_0-logloss:0.62133\tvalidation_1-logloss:0.62735\n",
      "[345]\tvalidation_0-logloss:0.62131\tvalidation_1-logloss:0.62740\n",
      "[346]\tvalidation_0-logloss:0.62129\tvalidation_1-logloss:0.62737\n",
      "[347]\tvalidation_0-logloss:0.62125\tvalidation_1-logloss:0.62735\n",
      "[348]\tvalidation_0-logloss:0.62124\tvalidation_1-logloss:0.62731\n",
      "[349]\tvalidation_0-logloss:0.62121\tvalidation_1-logloss:0.62722\n",
      "[350]\tvalidation_0-logloss:0.62121\tvalidation_1-logloss:0.62723\n",
      "[351]\tvalidation_0-logloss:0.62115\tvalidation_1-logloss:0.62723\n",
      "[352]\tvalidation_0-logloss:0.62113\tvalidation_1-logloss:0.62722\n",
      "[353]\tvalidation_0-logloss:0.62113\tvalidation_1-logloss:0.62721\n",
      "[354]\tvalidation_0-logloss:0.62110\tvalidation_1-logloss:0.62714\n",
      "[355]\tvalidation_0-logloss:0.62108\tvalidation_1-logloss:0.62710\n",
      "[356]\tvalidation_0-logloss:0.62104\tvalidation_1-logloss:0.62696\n",
      "[357]\tvalidation_0-logloss:0.62101\tvalidation_1-logloss:0.62689\n",
      "[358]\tvalidation_0-logloss:0.62100\tvalidation_1-logloss:0.62692\n",
      "[359]\tvalidation_0-logloss:0.62098\tvalidation_1-logloss:0.62694\n",
      "[360]\tvalidation_0-logloss:0.62097\tvalidation_1-logloss:0.62686\n",
      "[361]\tvalidation_0-logloss:0.62094\tvalidation_1-logloss:0.62689\n",
      "[362]\tvalidation_0-logloss:0.62092\tvalidation_1-logloss:0.62677\n",
      "[363]\tvalidation_0-logloss:0.62091\tvalidation_1-logloss:0.62670\n",
      "[364]\tvalidation_0-logloss:0.62092\tvalidation_1-logloss:0.62676\n",
      "[365]\tvalidation_0-logloss:0.62091\tvalidation_1-logloss:0.62673\n",
      "[366]\tvalidation_0-logloss:0.62088\tvalidation_1-logloss:0.62674\n",
      "[367]\tvalidation_0-logloss:0.62085\tvalidation_1-logloss:0.62671\n",
      "[368]\tvalidation_0-logloss:0.62082\tvalidation_1-logloss:0.62661\n",
      "[369]\tvalidation_0-logloss:0.62079\tvalidation_1-logloss:0.62663\n",
      "[370]\tvalidation_0-logloss:0.62078\tvalidation_1-logloss:0.62654\n",
      "[371]\tvalidation_0-logloss:0.62077\tvalidation_1-logloss:0.62662\n",
      "[372]\tvalidation_0-logloss:0.62075\tvalidation_1-logloss:0.62666\n",
      "[373]\tvalidation_0-logloss:0.62073\tvalidation_1-logloss:0.62658\n",
      "[374]\tvalidation_0-logloss:0.62072\tvalidation_1-logloss:0.62659\n",
      "[375]\tvalidation_0-logloss:0.62071\tvalidation_1-logloss:0.62666\n",
      "[376]\tvalidation_0-logloss:0.62067\tvalidation_1-logloss:0.62660\n",
      "[377]\tvalidation_0-logloss:0.62067\tvalidation_1-logloss:0.62656\n",
      "[378]\tvalidation_0-logloss:0.62065\tvalidation_1-logloss:0.62658\n",
      "[379]\tvalidation_0-logloss:0.62063\tvalidation_1-logloss:0.62663\n",
      "[380]\tvalidation_0-logloss:0.62061\tvalidation_1-logloss:0.62658\n",
      "[381]\tvalidation_0-logloss:0.62061\tvalidation_1-logloss:0.62653\n",
      "[382]\tvalidation_0-logloss:0.62058\tvalidation_1-logloss:0.62653\n",
      "[383]\tvalidation_0-logloss:0.62055\tvalidation_1-logloss:0.62648\n",
      "[384]\tvalidation_0-logloss:0.62053\tvalidation_1-logloss:0.62644\n",
      "[385]\tvalidation_0-logloss:0.62049\tvalidation_1-logloss:0.62640\n",
      "[386]\tvalidation_0-logloss:0.62047\tvalidation_1-logloss:0.62643\n",
      "[387]\tvalidation_0-logloss:0.62045\tvalidation_1-logloss:0.62644\n"
     ]
    },
    {
     "name": "stdout",
     "output_type": "stream",
     "text": [
      "[388]\tvalidation_0-logloss:0.62043\tvalidation_1-logloss:0.62640\n",
      "[389]\tvalidation_0-logloss:0.62040\tvalidation_1-logloss:0.62630\n",
      "[390]\tvalidation_0-logloss:0.62038\tvalidation_1-logloss:0.62635\n",
      "[391]\tvalidation_0-logloss:0.62037\tvalidation_1-logloss:0.62609\n",
      "[392]\tvalidation_0-logloss:0.62037\tvalidation_1-logloss:0.62610\n",
      "[393]\tvalidation_0-logloss:0.62034\tvalidation_1-logloss:0.62606\n",
      "[394]\tvalidation_0-logloss:0.62030\tvalidation_1-logloss:0.62609\n",
      "[395]\tvalidation_0-logloss:0.62027\tvalidation_1-logloss:0.62611\n",
      "[396]\tvalidation_0-logloss:0.62024\tvalidation_1-logloss:0.62605\n",
      "[397]\tvalidation_0-logloss:0.62022\tvalidation_1-logloss:0.62594\n",
      "[398]\tvalidation_0-logloss:0.62017\tvalidation_1-logloss:0.62590\n"
     ]
    },
    {
     "data": {
      "text/html": [
       "<style>#sk-container-id-1 {color: black;background-color: white;}#sk-container-id-1 pre{padding: 0;}#sk-container-id-1 div.sk-toggleable {background-color: white;}#sk-container-id-1 label.sk-toggleable__label {cursor: pointer;display: block;width: 100%;margin-bottom: 0;padding: 0.3em;box-sizing: border-box;text-align: center;}#sk-container-id-1 label.sk-toggleable__label-arrow:before {content: \"▸\";float: left;margin-right: 0.25em;color: #696969;}#sk-container-id-1 label.sk-toggleable__label-arrow:hover:before {color: black;}#sk-container-id-1 div.sk-estimator:hover label.sk-toggleable__label-arrow:before {color: black;}#sk-container-id-1 div.sk-toggleable__content {max-height: 0;max-width: 0;overflow: hidden;text-align: left;background-color: #f0f8ff;}#sk-container-id-1 div.sk-toggleable__content pre {margin: 0.2em;color: black;border-radius: 0.25em;background-color: #f0f8ff;}#sk-container-id-1 input.sk-toggleable__control:checked~div.sk-toggleable__content {max-height: 200px;max-width: 100%;overflow: auto;}#sk-container-id-1 input.sk-toggleable__control:checked~label.sk-toggleable__label-arrow:before {content: \"▾\";}#sk-container-id-1 div.sk-estimator input.sk-toggleable__control:checked~label.sk-toggleable__label {background-color: #d4ebff;}#sk-container-id-1 div.sk-label input.sk-toggleable__control:checked~label.sk-toggleable__label {background-color: #d4ebff;}#sk-container-id-1 input.sk-hidden--visually {border: 0;clip: rect(1px 1px 1px 1px);clip: rect(1px, 1px, 1px, 1px);height: 1px;margin: -1px;overflow: hidden;padding: 0;position: absolute;width: 1px;}#sk-container-id-1 div.sk-estimator {font-family: monospace;background-color: #f0f8ff;border: 1px dotted black;border-radius: 0.25em;box-sizing: border-box;margin-bottom: 0.5em;}#sk-container-id-1 div.sk-estimator:hover {background-color: #d4ebff;}#sk-container-id-1 div.sk-parallel-item::after {content: \"\";width: 100%;border-bottom: 1px solid gray;flex-grow: 1;}#sk-container-id-1 div.sk-label:hover label.sk-toggleable__label {background-color: #d4ebff;}#sk-container-id-1 div.sk-serial::before {content: \"\";position: absolute;border-left: 1px solid gray;box-sizing: border-box;top: 0;bottom: 0;left: 50%;z-index: 0;}#sk-container-id-1 div.sk-serial {display: flex;flex-direction: column;align-items: center;background-color: white;padding-right: 0.2em;padding-left: 0.2em;position: relative;}#sk-container-id-1 div.sk-item {position: relative;z-index: 1;}#sk-container-id-1 div.sk-parallel {display: flex;align-items: stretch;justify-content: center;background-color: white;position: relative;}#sk-container-id-1 div.sk-item::before, #sk-container-id-1 div.sk-parallel-item::before {content: \"\";position: absolute;border-left: 1px solid gray;box-sizing: border-box;top: 0;bottom: 0;left: 50%;z-index: -1;}#sk-container-id-1 div.sk-parallel-item {display: flex;flex-direction: column;z-index: 1;position: relative;background-color: white;}#sk-container-id-1 div.sk-parallel-item:first-child::after {align-self: flex-end;width: 50%;}#sk-container-id-1 div.sk-parallel-item:last-child::after {align-self: flex-start;width: 50%;}#sk-container-id-1 div.sk-parallel-item:only-child::after {width: 0;}#sk-container-id-1 div.sk-dashed-wrapped {border: 1px dashed gray;margin: 0 0.4em 0.5em 0.4em;box-sizing: border-box;padding-bottom: 0.4em;background-color: white;}#sk-container-id-1 div.sk-label label {font-family: monospace;font-weight: bold;display: inline-block;line-height: 1.2em;}#sk-container-id-1 div.sk-label-container {text-align: center;}#sk-container-id-1 div.sk-container {/* jupyter's `normalize.less` sets `[hidden] { display: none; }` but bootstrap.min.css set `[hidden] { display: none !important; }` so we also need the `!important` here to be able to override the default hidden behavior on the sphinx rendered scikit-learn.org. See: https://github.com/scikit-learn/scikit-learn/issues/21755 */display: inline-block !important;position: relative;}#sk-container-id-1 div.sk-text-repr-fallback {display: none;}</style><div id=\"sk-container-id-1\" class=\"sk-top-container\"><div class=\"sk-text-repr-fallback\"><pre>XGBClassifier(base_score=None, booster=None, callbacks=None,\n",
       "              colsample_bylevel=None, colsample_bynode=None,\n",
       "              colsample_bytree=0.24915342961737086, early_stopping_rounds=None,\n",
       "              enable_categorical=False, eval_metric=None, feature_types=None,\n",
       "              gamma=4.930698975563402e-07, gpu_id=None, grow_policy=None,\n",
       "              importance_type=None, interaction_constraints=None,\n",
       "              learning_rate=0.04513951741953903, max_bin=None,\n",
       "              max_cat_threshold=None, max_cat_to_onehot=None,\n",
       "              max_delta_step=None, max_depth=1, max_leaves=None,\n",
       "              min_child_weight=1, missing=nan, monotone_constraints=None,\n",
       "              n_estimators=399, n_jobs=None, num_parallel_tree=None,\n",
       "              predictor=None, random_state=None, ...)</pre><b>In a Jupyter environment, please rerun this cell to show the HTML representation or trust the notebook. <br />On GitHub, the HTML representation is unable to render, please try loading this page with nbviewer.org.</b></div><div class=\"sk-container\" hidden><div class=\"sk-item\"><div class=\"sk-estimator sk-toggleable\"><input class=\"sk-toggleable__control sk-hidden--visually\" id=\"sk-estimator-id-1\" type=\"checkbox\" checked><label for=\"sk-estimator-id-1\" class=\"sk-toggleable__label sk-toggleable__label-arrow\">XGBClassifier</label><div class=\"sk-toggleable__content\"><pre>XGBClassifier(base_score=None, booster=None, callbacks=None,\n",
       "              colsample_bylevel=None, colsample_bynode=None,\n",
       "              colsample_bytree=0.24915342961737086, early_stopping_rounds=None,\n",
       "              enable_categorical=False, eval_metric=None, feature_types=None,\n",
       "              gamma=4.930698975563402e-07, gpu_id=None, grow_policy=None,\n",
       "              importance_type=None, interaction_constraints=None,\n",
       "              learning_rate=0.04513951741953903, max_bin=None,\n",
       "              max_cat_threshold=None, max_cat_to_onehot=None,\n",
       "              max_delta_step=None, max_depth=1, max_leaves=None,\n",
       "              min_child_weight=1, missing=nan, monotone_constraints=None,\n",
       "              n_estimators=399, n_jobs=None, num_parallel_tree=None,\n",
       "              predictor=None, random_state=None, ...)</pre></div></div></div></div></div>"
      ],
      "text/plain": [
       "XGBClassifier(base_score=None, booster=None, callbacks=None,\n",
       "              colsample_bylevel=None, colsample_bynode=None,\n",
       "              colsample_bytree=0.24915342961737086, early_stopping_rounds=None,\n",
       "              enable_categorical=False, eval_metric=None, feature_types=None,\n",
       "              gamma=4.930698975563402e-07, gpu_id=None, grow_policy=None,\n",
       "              importance_type=None, interaction_constraints=None,\n",
       "              learning_rate=0.04513951741953903, max_bin=None,\n",
       "              max_cat_threshold=None, max_cat_to_onehot=None,\n",
       "              max_delta_step=None, max_depth=1, max_leaves=None,\n",
       "              min_child_weight=1, missing=nan, monotone_constraints=None,\n",
       "              n_estimators=399, n_jobs=None, num_parallel_tree=None,\n",
       "              predictor=None, random_state=None, ...)"
      ]
     },
     "execution_count": 17,
     "metadata": {},
     "output_type": "execute_result"
    }
   ],
   "source": [
    "#now use early stopping on best hypertuned parameters\n",
    "cls = xgb.XGBClassifier(**params)\n",
    "cls.fit(features_train, training_label, eval_set=[(features_train, training_label), (features_val, validation_label)],\n",
    "            early_stopping_rounds=20)"
   ]
  },
  {
   "cell_type": "code",
   "execution_count": 18,
   "id": "f19b4bb2-a156-448c-80aa-daaa4698b093",
   "metadata": {
    "tags": []
   },
   "outputs": [
    {
     "name": "stdout",
     "output_type": "stream",
     "text": [
      "The best tree length:  399\n"
     ]
    }
   ],
   "source": [
    "results = cls.evals_result()\n",
    "\n",
    "print(\"The best tree length: \", model.best_ntree_limit)"
   ]
  },
  {
   "cell_type": "code",
   "execution_count": 19,
   "id": "3a9eec98-d6dd-46b0-9b84-123e1ac5f52b",
   "metadata": {
    "tags": []
   },
   "outputs": [
    {
     "ename": "KeyError",
     "evalue": "'rmse'",
     "output_type": "error",
     "traceback": [
      "\u001b[0;31m---------------------------------------------------------------------------\u001b[0m",
      "\u001b[0;31mKeyError\u001b[0m                                  Traceback (most recent call last)",
      "Cell \u001b[0;32mIn[19], line 3\u001b[0m\n\u001b[1;32m      1\u001b[0m plt\u001b[38;5;241m.\u001b[39mfigure(figsize\u001b[38;5;241m=\u001b[39m(\u001b[38;5;241m10\u001b[39m,\u001b[38;5;241m7\u001b[39m))\n\u001b[1;32m      2\u001b[0m plt\u001b[38;5;241m.\u001b[39mplot(results[\u001b[38;5;124m\"\u001b[39m\u001b[38;5;124mvalidation_0\u001b[39m\u001b[38;5;124m\"\u001b[39m][\u001b[38;5;124m\"\u001b[39m\u001b[38;5;124mlogloss\u001b[39m\u001b[38;5;124m\"\u001b[39m], label\u001b[38;5;241m=\u001b[39m\u001b[38;5;124m\"\u001b[39m\u001b[38;5;124mTraining loss\u001b[39m\u001b[38;5;124m\"\u001b[39m)\n\u001b[0;32m----> 3\u001b[0m plt\u001b[38;5;241m.\u001b[39mplot(\u001b[43mresults\u001b[49m\u001b[43m[\u001b[49m\u001b[38;5;124;43m\"\u001b[39;49m\u001b[38;5;124;43mvalidation_1\u001b[39;49m\u001b[38;5;124;43m\"\u001b[39;49m\u001b[43m]\u001b[49m\u001b[43m[\u001b[49m\u001b[38;5;124;43m\"\u001b[39;49m\u001b[38;5;124;43mrmse\u001b[39;49m\u001b[38;5;124;43m\"\u001b[39;49m\u001b[43m]\u001b[49m, label\u001b[38;5;241m=\u001b[39m\u001b[38;5;124m\"\u001b[39m\u001b[38;5;124mValidation loss\u001b[39m\u001b[38;5;124m\"\u001b[39m)\n\u001b[1;32m      4\u001b[0m plt\u001b[38;5;241m.\u001b[39maxvline(model\u001b[38;5;241m.\u001b[39mbest_ntree_limit, color\u001b[38;5;241m=\u001b[39m\u001b[38;5;124m\"\u001b[39m\u001b[38;5;124mgray\u001b[39m\u001b[38;5;124m\"\u001b[39m, label\u001b[38;5;241m=\u001b[39m\u001b[38;5;124m\"\u001b[39m\u001b[38;5;124mOptimal tree number\u001b[39m\u001b[38;5;124m\"\u001b[39m)\n\u001b[1;32m      5\u001b[0m plt\u001b[38;5;241m.\u001b[39mxlabel(\u001b[38;5;124m\"\u001b[39m\u001b[38;5;124mNumber of trees\u001b[39m\u001b[38;5;124m\"\u001b[39m)\n",
      "\u001b[0;31mKeyError\u001b[0m: 'rmse'"
     ]
    },
    {
     "data": {
      "image/png": "[encoded data removed]",
      "text/plain": [
       "<Figure size 1000x700 with 1 Axes>"
      ]
     },
     "metadata": {},
     "output_type": "display_data"
    }
   ],
   "source": [
    "plt.figure(figsize=(10,7))\n",
    "plt.plot(results[\"validation_0\"][\"logloss\"], label=\"Training loss\")\n",
    "plt.plot(results[\"validation_1\"][\"rmse\"], label=\"Validation loss\")\n",
    "plt.axvline(model.best_ntree_limit, color=\"gray\", label=\"Optimal tree number\")\n",
    "plt.xlabel(\"Number of trees\")\n",
    "plt.ylabel(\"Loss\")\n",
    "plt.legend()\n",
    "plt.savefig(\"NumberOfTrees.svg\")"
   ]
  },
  {
   "cell_type": "code",
   "execution_count": null,
   "id": "9726cbcc-2352-4efc-af86-14ef415b981c",
   "metadata": {
    "tags": []
   },
   "outputs": [],
   "source": [
    "\"\"\"\n",
    "EARLY STOPPING: It seems that the model suggests that the larger the tree length the better as validation loss is continually decreasing. Because of this the metrics \n",
    "after running hyperparameter tuning with early stopping are exactly the same as before. This is quite interesting and I'm not exactly sure how to interpret these results.\n",
    "\"\"\""
   ]
  },
  {
   "cell_type": "code",
   "execution_count": null,
   "id": "1e4a101b-8559-4bc0-87d5-d62a319f7370",
   "metadata": {
    "tags": []
   },
   "outputs": [],
   "source": [
    "\"\"\"\n",
    "RESULTS: Overall, our machine learning program was able to predict the winner of a given match with around a 65% accuracy after hyperparameter tuning. I am happy with\n",
    "these results as sports are difficult to gauge and therefore I didn't expect a very high number for this project. Being correct approximately 2/3 of the time is far\n",
    "better than randomly selecting a winner and probably better than if I were to manually guess. Hopefully in the future I will be able to incorporate my accumulative player\n",
    "data as well as adjust the hyperparameters to make my model even more accurate.\n",
    "\"\"\""
   ]
  },
  {
   "cell_type": "code",
   "execution_count": null,
   "id": "5b609d37",
   "metadata": {},
   "outputs": [],
   "source": []
  },
  {
   "cell_type": "code",
   "execution_count": null,
   "id": "d8c70c41",
   "metadata": {},
   "outputs": [],
   "source": []
  }
 ],
 "metadata": {
  "kernelspec": {
   "display_name": "Python 3 (ipykernel)",
   "language": "python",
   "name": "python3"
  },
  "language_info": {
   "codemirror_mode": {
    "name": "ipython",
    "version": 3
   },
   "file_extension": ".py",
   "mimetype": "text/x-python",
   "name": "python",
   "nbconvert_exporter": "python",
   "pygments_lexer": "ipython3",
   "version": "3.10.0"
  }
 },
 "nbformat": 4,
 "nbformat_minor": 5
}
